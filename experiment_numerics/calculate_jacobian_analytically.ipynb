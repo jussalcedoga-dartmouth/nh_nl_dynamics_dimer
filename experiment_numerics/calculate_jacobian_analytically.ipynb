{
 "cells": [
  {
   "cell_type": "code",
   "execution_count": 1,
   "metadata": {},
   "outputs": [],
   "source": [
    "%run ../michiel_numerics/preamble.py # opgelet, dit laadt alles in van qutip al.\n",
    "%run ../michiel_numerics/analytics.py \n",
    "%run ../michiel_numerics/sympy_tricks.py"
   ]
  },
  {
   "cell_type": "code",
   "execution_count": 2,
   "metadata": {},
   "outputs": [],
   "source": [
    "%matplotlib widget\n",
    "from IPython.core.interactiveshell import InteractiveShell\n",
    "InteractiveShell.ast_node_interactivity = \"all\"\n",
    "custom_preamble = {\n",
    "            \"text.usetex\": True,\n",
    "            \"font.size\" : 10,\n",
    "            \"text.latex.preamble\": r\"\\usepackage{amsmath} \\usepackage{bbold} \\usepackage{amssymb} \\usepackage{mathrsfs} \\usepackage{physics} \\usepackage{mathtools}\"}\n",
    "plt.rcParams.update(custom_preamble)"
   ]
  },
  {
   "cell_type": "code",
   "execution_count": 3,
   "metadata": {},
   "outputs": [
    {
     "data": {
      "text/plain": [
       "<module 'sympy.functions' from '/home/michiel/.local/lib/python3.8/site-packages/sympy/functions/__init__.py'>"
      ]
     },
     "execution_count": 3,
     "metadata": {},
     "output_type": "execute_result"
    }
   ],
   "source": [
    "functions"
   ]
  },
  {
   "cell_type": "code",
   "execution_count": 4,
   "metadata": {},
   "outputs": [],
   "source": [
    "# use the same notation (for the variables) as in the numerical code\n",
    "\n",
    "kappa_cavity1, kappa_cavity2 = symbols('\\kappa_\\\\textrm{c1} \\kappa_\\\\textrm{c2}' , real=True, positive=True)\n",
    "s_kapc1, s_kapc2 = symbols('kappa_cavity1, kappa_cavity2', real=True, positive=True)\n",
    "\n",
    "t_hop_1_1, t_hop_1_2, t_hop_2_1, t_hop_2_2 = symbols('t_{\\\\textrm{hop}11} t_{\\\\textrm{hop}12} t_{\\\\textrm{hop}21} t_{\\\\textrm{hop}22}', real=True, positive=True)\n",
    "s_th11, s_th12, s_th21, s_th22 = symbols('t_hop_1_1 t_hop_1_2 t_hop_2_1 t_hop_2_2', real=True, positive=True)\n",
    "\n",
    "phase = Symbol('\\phi', real=True)\n",
    "s_phase = Symbol('phase', real=True)\n",
    "\n",
    "omega1, omega2, omega_d = symbols('\\omega_1 \\omega_2 \\omega_{\\\\textrm{d}}', real=True, positive=True)\n",
    "s_w1, s_w2, s_wd = symbols('omega1 omega2 omega_d', real=True, positive=True)\n",
    "\n",
    "epsilon = Symbol('\\\\varepsilon', real=True)\n",
    "s_eps = Symbol('epsilon', real=True)\n",
    "\n",
    "\n"
   ]
  },
  {
   "cell_type": "code",
   "execution_count": 5,
   "metadata": {},
   "outputs": [],
   "source": [
    "#dynamical variables\n",
    "alpha1_c, alpha2_c = symbols('\\\\alpha_{1\\\\textrm{c}} \\\\alpha_{2\\\\textrm{c}}', complex=True)\n",
    "\n",
    "# readable quadrature\n",
    "x1, p1, x2, p2 = symbols('x_{1} p_1 x_2 p_2', complex=True)\n",
    "\n",
    "\n",
    "# quadratures in the original notation of the Juan code\n",
    "s_x1, s_p1, s_x2, s_p2 = symbols('alpha1 alpha1_i alpha2 alpha2_i', real=True)\n",
    "\n",
    "real_quadratures = [x1, p1, x2, p2]"
   ]
  },
  {
   "cell_type": "code",
   "execution_count": 6,
   "metadata": {},
   "outputs": [
    {
     "data": {
      "text/latex": [
       "$\\displaystyle \\operatorname{G_{1}}{\\left(\\left|{\\alpha_{1\\textrm{c}}}\\right|^{2} \\right)}$"
      ],
      "text/plain": [
       "G_1(Abs(\\alpha_{1\\textrm{c}})**2)"
      ]
     },
     "execution_count": 6,
     "metadata": {},
     "output_type": "execute_result"
    },
    {
     "data": {
      "text/latex": [
       "$\\displaystyle \\operatorname{G_{2}}{\\left(\\left|{\\alpha_{2\\textrm{c}}}\\right|^{2} \\right)}$"
      ],
      "text/plain": [
       "G_2(Abs(\\alpha_{2\\textrm{c}})**2)"
      ]
     },
     "execution_count": 6,
     "metadata": {},
     "output_type": "execute_result"
    },
    {
     "data": {
      "text/latex": [
       "$\\displaystyle \\dot{G_{1}}{\\left(N_{1} \\right)}$"
      ],
      "text/plain": [
       "\\dot{G_{1}}(N_1)"
      ]
     },
     "execution_count": 6,
     "metadata": {},
     "output_type": "execute_result"
    },
    {
     "data": {
      "text/latex": [
       "$\\displaystyle deriv_{G12(N1, mode idx = 1)}$"
      ],
      "text/plain": [
       "deriv_G12(N1, mode_idx = 1)"
      ]
     },
     "execution_count": 6,
     "metadata": {},
     "output_type": "execute_result"
    },
    {
     "data": {
      "text/latex": [
       "$\\displaystyle \\dot{G_{2}}{\\left(N_{2} \\right)}$"
      ],
      "text/plain": [
       "\\dot{G_{2}}(N_2)"
      ]
     },
     "execution_count": 6,
     "metadata": {},
     "output_type": "execute_result"
    },
    {
     "data": {
      "text/latex": [
       "$\\displaystyle deriv_{G12(N2, mode idx = 2)}$"
      ],
      "text/plain": [
       "deriv_G12(N2, mode_idx = 2)"
      ]
     },
     "execution_count": 6,
     "metadata": {},
     "output_type": "execute_result"
    }
   ],
   "source": [
    "##### Stuff for the gain functions....\n",
    "\n",
    "# symmetric gain variable more on the theory side:\n",
    "# will not be necessary for the canonical experimental code\n",
    "eta0   = Symbol('\\\\eta_{0}', real=True, positive = True)\n",
    "s_eta0 = Symbol('eta0', real=True, positive = True)\n",
    "\n",
    "# photon numbers to be sibstituted at the end\n",
    "N1, N2 = symbols('N_1 N_2', real=True, positive=True)\n",
    "s_N1, s_N2 = symbols('N1 N2', real=True, positive=True) # for actual final substitution\n",
    "\n",
    "G1, G2 = symbols('G_1 G_2', real=True)\n",
    "s_G1, s_G2 = symbols('G1 G2', real=True)\n",
    "\n",
    "# Make sympy do all the calculations\n",
    "G_N1 = Function('G_1', real = True)(abs(alpha1_c)**2)\n",
    "G_N1\n",
    "G_N2 = Function('G_2', real = True)(abs(alpha2_c)**2)\n",
    "G_N2\n",
    "\n",
    "# The gain functions are pretty burried for me. I would have to see math formulas.\n",
    "# I could use the ones from the overleaf, which I know are equivalent,\n",
    "# but then I don't know quite exactly how to translate back to code (-notation).\n",
    "# So I'll leave you to differentiate the gain functions for now...\n",
    "\n",
    "dG1 = Function('\\\\dot{G_{1}}', real=True)(N1) # zal ik waarschijnlijk niet zomaar moeten gebruiken..\n",
    "dG1\n",
    "s_dG1 = Symbol('deriv_G12(N1, mode_idx = 1)', real=True) # moet runable code worden...\n",
    "s_dG1\n",
    "\n",
    "dG2 = Function('\\\\dot{G_{2}}', real=True)(N2) # zal ik waarschijnlijk niet zomaar moeten gebruiken...\n",
    "dG2\n",
    "s_dG2 = Symbol('deriv_G12(N2, mode_idx = 2)', real=True) # moet runable code worden...\n",
    "s_dG2\n"
   ]
  },
  {
   "cell_type": "code",
   "execution_count": 7,
   "metadata": {},
   "outputs": [],
   "source": [
    "# to convert the final symbolical expression into useable (numerical) code -- is just a trick.\n",
    "string_subst_dict = {\n",
    "    kappa_cavity1 : s_kapc1,\n",
    "    kappa_cavity2 : s_kapc2,\n",
    "    t_hop_1_1 : s_th11,\n",
    "    t_hop_1_2 : s_th12,\n",
    "    t_hop_2_1 : s_th21,\n",
    "    t_hop_2_2 : s_th22,\n",
    "    phase : s_phase,\n",
    "    omega1 : s_w1,\n",
    "    omega2 : s_w2,\n",
    "    omega_d : s_wd,\n",
    "    epsilon : s_eps,\n",
    "    x1 : s_x1,\n",
    "    p1 : s_p1,\n",
    "    x2 : s_x2,\n",
    "    p2 : s_p2,\n",
    "    x1**2 + p1**2 : N1,\n",
    "    x2**2 + p2**2 : N2\n",
    "}"
   ]
  },
  {
   "cell_type": "code",
   "execution_count": 8,
   "metadata": {},
   "outputs": [
    {
     "data": {
      "text/latex": [
       "$\\displaystyle \\alpha_{1\\textrm{c}} \\left(- \\frac{\\kappa_\\textrm{c1}}{2} + \\frac{t_{\\textrm{hop}11} t_{\\textrm{hop}21} \\operatorname{G_{2}}{\\left(\\left|{\\alpha_{2\\textrm{c}}}\\right|^{2} \\right)}}{2} - i \\left(\\omega_{1} - \\omega_{\\textrm{d}}\\right)\\right) + i \\alpha_{2\\textrm{c}} \\sqrt{t_{\\textrm{hop}11}} \\sqrt{t_{\\textrm{hop}21}} \\operatorname{G_{2}}{\\left(\\left|{\\alpha_{2\\textrm{c}}}\\right|^{2} \\right)}$"
      ],
      "text/plain": [
       "\\alpha_{1\\textrm{c}}*(-\\kappa_\\textrm{c1}/2 + t_{\\textrm{hop}11}*t_{\\textrm{hop}21}*G_2(Abs(\\alpha_{2\\textrm{c}})**2)/2 - I*(\\omega_1 - \\omega_{\\textrm{d}})) + I*\\alpha_{2\\textrm{c}}*sqrt(t_{\\textrm{hop}11})*sqrt(t_{\\textrm{hop}21})*G_2(Abs(\\alpha_{2\\textrm{c}})**2)"
      ]
     },
     "execution_count": 8,
     "metadata": {},
     "output_type": "execute_result"
    },
    {
     "data": {
      "text/latex": [
       "$\\displaystyle i \\alpha_{1\\textrm{c}} \\sqrt{t_{\\textrm{hop}12}} \\sqrt{t_{\\textrm{hop}22}} \\operatorname{G_{1}}{\\left(\\left|{\\alpha_{1\\textrm{c}}}\\right|^{2} \\right)} e^{- i \\phi} + \\alpha_{2\\textrm{c}} \\left(- \\frac{\\kappa_\\textrm{c2}}{2} + \\frac{t_{\\textrm{hop}12} t_{\\textrm{hop}22} \\operatorname{G_{1}}{\\left(\\left|{\\alpha_{1\\textrm{c}}}\\right|^{2} \\right)} e^{- i \\phi}}{2} - i \\left(\\omega_{2} - \\omega_{\\textrm{d}}\\right)\\right)$"
      ],
      "text/plain": [
       "I*\\alpha_{1\\textrm{c}}*sqrt(t_{\\textrm{hop}12})*sqrt(t_{\\textrm{hop}22})*G_1(Abs(\\alpha_{1\\textrm{c}})**2)*exp(-I*\\phi) + \\alpha_{2\\textrm{c}}*(-\\kappa_\\textrm{c2}/2 + t_{\\textrm{hop}12}*t_{\\textrm{hop}22}*G_1(Abs(\\alpha_{1\\textrm{c}})**2)*exp(-I*\\phi)/2 - I*(\\omega_2 - \\omega_{\\textrm{d}}))"
      ]
     },
     "execution_count": 8,
     "metadata": {},
     "output_type": "execute_result"
    }
   ],
   "source": [
    "\n",
    "d_alpha1 = -(((kappa_cavity1)/2 - (G_N2)*(t_hop_1_1 * t_hop_2_1)/2) + I * (omega1 - omega_d)) * alpha1_c + I * G_N2 * sqrt(t_hop_1_1 * t_hop_2_1) * alpha2_c\n",
    "d_alpha1\n",
    "d_alpha2 = -(((kappa_cavity2)/2 - (G_N1)*(t_hop_1_2 * t_hop_2_2)*exp(-I * phase)/2) + I * (omega2 - omega_d)) * alpha2_c + I * G_N1 * sqrt(t_hop_1_2 * t_hop_2_2) * exp(-I * phase) * alpha1_c\n",
    "d_alpha2"
   ]
  },
  {
   "cell_type": "code",
   "execution_count": 9,
   "metadata": {},
   "outputs": [
    {
     "data": {
      "text/latex": [
       "$\\displaystyle - \\sqrt{t_{\\textrm{hop}12}} \\sqrt{t_{\\textrm{hop}22}} \\operatorname{G_{1}}{\\left(\\left|{\\alpha_{1\\textrm{c}}}\\right|^{2} \\right)} \\operatorname{im}{\\left(\\alpha_{1\\textrm{c}} e^{- i \\phi}\\right)} + \\left(- \\frac{\\kappa_\\textrm{c2}}{2} + \\frac{t_{\\textrm{hop}12} t_{\\textrm{hop}22} \\operatorname{G_{1}}{\\left(\\left|{\\alpha_{1\\textrm{c}}}\\right|^{2} \\right)} \\cos{\\left(\\phi \\right)}}{2}\\right) \\operatorname{re}{\\left(\\alpha_{2\\textrm{c}}\\right)} - \\left(- \\omega_{2} + \\omega_{\\textrm{d}} - \\frac{t_{\\textrm{hop}12} t_{\\textrm{hop}22} \\operatorname{G_{1}}{\\left(\\left|{\\alpha_{1\\textrm{c}}}\\right|^{2} \\right)} \\sin{\\left(\\phi \\right)}}{2}\\right) \\operatorname{im}{\\left(\\alpha_{2\\textrm{c}}\\right)}$"
      ],
      "text/plain": [
       "-sqrt(t_{\\textrm{hop}12})*sqrt(t_{\\textrm{hop}22})*G_1(Abs(\\alpha_{1\\textrm{c}})**2)*im(\\alpha_{1\\textrm{c}}*exp(-I*\\phi)) + (-\\kappa_\\textrm{c2}/2 + t_{\\textrm{hop}12}*t_{\\textrm{hop}22}*G_1(Abs(\\alpha_{1\\textrm{c}})**2)*cos(\\phi)/2)*re(\\alpha_{2\\textrm{c}}) - (-\\omega_2 + \\omega_{\\textrm{d}} - t_{\\textrm{hop}12}*t_{\\textrm{hop}22}*G_1(Abs(\\alpha_{1\\textrm{c}})**2)*sin(\\phi)/2)*im(\\alpha_{2\\textrm{c}})"
      ]
     },
     "execution_count": 9,
     "metadata": {},
     "output_type": "execute_result"
    }
   ],
   "source": [
    "re(d_alpha2).doit()\n"
   ]
  },
  {
   "cell_type": "code",
   "execution_count": 10,
   "metadata": {},
   "outputs": [
    {
     "data": {
      "text/latex": [
       "$\\displaystyle i \\alpha_{1\\textrm{c}} \\sqrt{t_{\\textrm{hop}12}} \\sqrt{t_{\\textrm{hop}22}} \\left(- i \\sin{\\left(\\phi \\right)} + \\cos{\\left(\\phi \\right)}\\right) \\operatorname{G_{1}}{\\left(\\left|{\\alpha_{1\\textrm{c}}}\\right|^{2} \\right)} + \\alpha_{2\\textrm{c}} \\left(- \\frac{\\kappa_\\textrm{c2}}{2} + \\frac{t_{\\textrm{hop}12} t_{\\textrm{hop}22} \\left(- i \\sin{\\left(\\phi \\right)} + \\cos{\\left(\\phi \\right)}\\right) \\operatorname{G_{1}}{\\left(\\left|{\\alpha_{1\\textrm{c}}}\\right|^{2} \\right)}}{2} - i \\left(\\omega_{2} - \\omega_{\\textrm{d}}\\right)\\right)$"
      ],
      "text/plain": [
       "I*\\alpha_{1\\textrm{c}}*sqrt(t_{\\textrm{hop}12})*sqrt(t_{\\textrm{hop}22})*(-I*sin(\\phi) + cos(\\phi))*G_1(Abs(\\alpha_{1\\textrm{c}})**2) + \\alpha_{2\\textrm{c}}*(-\\kappa_\\textrm{c2}/2 + t_{\\textrm{hop}12}*t_{\\textrm{hop}22}*(-I*sin(\\phi) + cos(\\phi))*G_1(Abs(\\alpha_{1\\textrm{c}})**2)/2 - I*(\\omega_2 - \\omega_{\\textrm{d}}))"
      ]
     },
     "execution_count": 10,
     "metadata": {},
     "output_type": "execute_result"
    },
    {
     "data": {
      "text/latex": [
       "$\\displaystyle \\sqrt{t_{\\textrm{hop}12}} \\sqrt{t_{\\textrm{hop}22}} \\operatorname{G_{1}}{\\left(\\left|{\\alpha_{1\\textrm{c}}}\\right|^{2} \\right)} \\sin{\\left(\\phi \\right)} \\operatorname{re}{\\left(\\alpha_{1\\textrm{c}}\\right)} - \\sqrt{t_{\\textrm{hop}12}} \\sqrt{t_{\\textrm{hop}22}} \\operatorname{G_{1}}{\\left(\\left|{\\alpha_{1\\textrm{c}}}\\right|^{2} \\right)} \\cos{\\left(\\phi \\right)} \\operatorname{im}{\\left(\\alpha_{1\\textrm{c}}\\right)} + \\left(- \\frac{\\kappa_\\textrm{c2}}{2} + \\frac{t_{\\textrm{hop}12} t_{\\textrm{hop}22} \\operatorname{G_{1}}{\\left(\\left|{\\alpha_{1\\textrm{c}}}\\right|^{2} \\right)} \\cos{\\left(\\phi \\right)}}{2}\\right) \\operatorname{re}{\\left(\\alpha_{2\\textrm{c}}\\right)} - \\left(- \\omega_{2} + \\omega_{\\textrm{d}} - \\frac{t_{\\textrm{hop}12} t_{\\textrm{hop}22} \\operatorname{G_{1}}{\\left(\\left|{\\alpha_{1\\textrm{c}}}\\right|^{2} \\right)} \\sin{\\left(\\phi \\right)}}{2}\\right) \\operatorname{im}{\\left(\\alpha_{2\\textrm{c}}\\right)}$"
      ],
      "text/plain": [
       "sqrt(t_{\\textrm{hop}12})*sqrt(t_{\\textrm{hop}22})*G_1(Abs(\\alpha_{1\\textrm{c}})**2)*sin(\\phi)*re(\\alpha_{1\\textrm{c}}) - sqrt(t_{\\textrm{hop}12})*sqrt(t_{\\textrm{hop}22})*G_1(Abs(\\alpha_{1\\textrm{c}})**2)*cos(\\phi)*im(\\alpha_{1\\textrm{c}}) + (-\\kappa_\\textrm{c2}/2 + t_{\\textrm{hop}12}*t_{\\textrm{hop}22}*G_1(Abs(\\alpha_{1\\textrm{c}})**2)*cos(\\phi)/2)*re(\\alpha_{2\\textrm{c}}) - (-\\omega_2 + \\omega_{\\textrm{d}} - t_{\\textrm{hop}12}*t_{\\textrm{hop}22}*G_1(Abs(\\alpha_{1\\textrm{c}})**2)*sin(\\phi)/2)*im(\\alpha_{2\\textrm{c}})"
      ]
     },
     "execution_count": 10,
     "metadata": {},
     "output_type": "execute_result"
    }
   ],
   "source": [
    "# test if things are worked out correct, before substitution into real quadratures\n",
    "d_alpha2.subs(exp(- I * phase), cos(phase) - I * sin(phase)).doit()\n",
    "re(_)"
   ]
  },
  {
   "cell_type": "code",
   "execution_count": 11,
   "metadata": {},
   "outputs": [
    {
     "data": {
      "text/latex": [
       "$\\displaystyle x_{1}$"
      ],
      "text/plain": [
       "x_{1}"
      ]
     },
     "execution_count": 11,
     "metadata": {},
     "output_type": "execute_result"
    }
   ],
   "source": [
    "subst_dict = {re(alpha1_c): x1, im(alpha1_c):p1, re(alpha2_c):x2, im(alpha2_c):p2, abs(alpha1_c)**2 : x1**2 + p1**2,abs(alpha2_c)**2 : x2**2 + p2**2 }\n",
    "subst_dict[re(alpha1_c)]"
   ]
  },
  {
   "cell_type": "code",
   "execution_count": 12,
   "metadata": {},
   "outputs": [
    {
     "data": {
      "text/latex": [
       "$\\displaystyle \\left[\\begin{matrix}- p_{1} \\left(- \\omega_{1} + \\omega_{\\textrm{d}}\\right) - p_{2} \\sqrt{t_{\\textrm{hop}11}} \\sqrt{t_{\\textrm{hop}21}} \\operatorname{G_{2}}{\\left(p_{2}^{2} + x_{2}^{2} \\right)} + x_{1} \\left(- \\frac{\\kappa_\\textrm{c1}}{2} + \\frac{t_{\\textrm{hop}11} t_{\\textrm{hop}21} \\operatorname{G_{2}}{\\left(p_{2}^{2} + x_{2}^{2} \\right)}}{2}\\right)\\\\p_{1} \\left(- \\frac{\\kappa_\\textrm{c1}}{2} + \\frac{t_{\\textrm{hop}11} t_{\\textrm{hop}21} \\operatorname{G_{2}}{\\left(p_{2}^{2} + x_{2}^{2} \\right)}}{2}\\right) + \\sqrt{t_{\\textrm{hop}11}} \\sqrt{t_{\\textrm{hop}21}} x_{2} \\operatorname{G_{2}}{\\left(p_{2}^{2} + x_{2}^{2} \\right)} + x_{1} \\left(- \\omega_{1} + \\omega_{\\textrm{d}}\\right)\\\\- p_{2} \\left(- \\omega_{2} + \\omega_{\\textrm{d}} - \\frac{t_{\\textrm{hop}12} t_{\\textrm{hop}22} \\operatorname{G_{1}}{\\left(p_{1}^{2} + x_{1}^{2} \\right)} \\sin{\\left(\\phi \\right)}}{2}\\right) - \\sqrt{t_{\\textrm{hop}12}} \\sqrt{t_{\\textrm{hop}22}} \\left(p_{1} \\cos{\\left(\\phi \\right)} - x_{1} \\sin{\\left(\\phi \\right)}\\right) \\operatorname{G_{1}}{\\left(p_{1}^{2} + x_{1}^{2} \\right)} + x_{2} \\left(- \\frac{\\kappa_\\textrm{c2}}{2} + \\frac{t_{\\textrm{hop}12} t_{\\textrm{hop}22} \\operatorname{G_{1}}{\\left(p_{1}^{2} + x_{1}^{2} \\right)} \\cos{\\left(\\phi \\right)}}{2}\\right)\\\\p_{2} \\left(- \\frac{\\kappa_\\textrm{c2}}{2} + \\frac{t_{\\textrm{hop}12} t_{\\textrm{hop}22} \\operatorname{G_{1}}{\\left(p_{1}^{2} + x_{1}^{2} \\right)} \\cos{\\left(\\phi \\right)}}{2}\\right) + \\sqrt{t_{\\textrm{hop}12}} \\sqrt{t_{\\textrm{hop}22}} \\left(p_{1} \\sin{\\left(\\phi \\right)} + x_{1} \\cos{\\left(\\phi \\right)}\\right) \\operatorname{G_{1}}{\\left(p_{1}^{2} + x_{1}^{2} \\right)} + x_{2} \\left(- \\omega_{2} + \\omega_{\\textrm{d}} - \\frac{t_{\\textrm{hop}12} t_{\\textrm{hop}22} \\operatorname{G_{1}}{\\left(p_{1}^{2} + x_{1}^{2} \\right)} \\sin{\\left(\\phi \\right)}}{2}\\right)\\end{matrix}\\right]$"
      ],
      "text/plain": [
       "Matrix([\n",
       "[                                                                                                                     -p_1*(-\\omega_1 + \\omega_{\\textrm{d}}) - p_2*sqrt(t_{\\textrm{hop}11})*sqrt(t_{\\textrm{hop}21})*G_2(p_2**2 + x_2**2) + x_{1}*(-\\kappa_\\textrm{c1}/2 + t_{\\textrm{hop}11}*t_{\\textrm{hop}21}*G_2(p_2**2 + x_2**2)/2)],\n",
       "[                                                                                                                      p_1*(-\\kappa_\\textrm{c1}/2 + t_{\\textrm{hop}11}*t_{\\textrm{hop}21}*G_2(p_2**2 + x_2**2)/2) + sqrt(t_{\\textrm{hop}11})*sqrt(t_{\\textrm{hop}21})*x_2*G_2(p_2**2 + x_2**2) + x_{1}*(-\\omega_1 + \\omega_{\\textrm{d}})],\n",
       "[-p_2*(-\\omega_2 + \\omega_{\\textrm{d}} - t_{\\textrm{hop}12}*t_{\\textrm{hop}22}*G_1(p_1**2 + x_{1}**2)*sin(\\phi)/2) - sqrt(t_{\\textrm{hop}12})*sqrt(t_{\\textrm{hop}22})*(p_1*cos(\\phi) - x_{1}*sin(\\phi))*G_1(p_1**2 + x_{1}**2) + x_2*(-\\kappa_\\textrm{c2}/2 + t_{\\textrm{hop}12}*t_{\\textrm{hop}22}*G_1(p_1**2 + x_{1}**2)*cos(\\phi)/2)],\n",
       "[ p_2*(-\\kappa_\\textrm{c2}/2 + t_{\\textrm{hop}12}*t_{\\textrm{hop}22}*G_1(p_1**2 + x_{1}**2)*cos(\\phi)/2) + sqrt(t_{\\textrm{hop}12})*sqrt(t_{\\textrm{hop}22})*(p_1*sin(\\phi) + x_{1}*cos(\\phi))*G_1(p_1**2 + x_{1}**2) + x_2*(-\\omega_2 + \\omega_{\\textrm{d}} - t_{\\textrm{hop}12}*t_{\\textrm{hop}22}*G_1(p_1**2 + x_{1}**2)*sin(\\phi)/2)]])"
      ]
     },
     "execution_count": 12,
     "metadata": {},
     "output_type": "execute_result"
    }
   ],
   "source": [
    "# Now we can be assured and automate things.\n",
    "vf_components = [re(d_alpha1), im(d_alpha1), re(d_alpha2), im(d_alpha2)]\n",
    "vf_components = [vf_comp.subs(exp(- I * phase), cos(phase) - I * sin(phase)).doit() for vf_comp in vf_components]\n",
    "vf_components = [vf_comp.subs(subst_dict) for vf_comp in vf_components]\n",
    "vf = Matrix(vf_components)\n",
    "vf\n"
   ]
  },
  {
   "cell_type": "code",
   "execution_count": 13,
   "metadata": {},
   "outputs": [
    {
     "data": {
      "text/latex": [
       "$\\displaystyle - p_{1} \\sqrt{t_{\\textrm{hop}12}} \\sqrt{t_{\\textrm{hop}22}} \\operatorname{G_{1}}{\\left(p_{1}^{2} + x_{1}^{2} \\right)} \\cos{\\left(\\phi \\right)} - p_{2} \\left(- \\omega_{2} + \\omega_{\\textrm{d}} - \\frac{t_{\\textrm{hop}12} t_{\\textrm{hop}22} \\operatorname{G_{1}}{\\left(p_{1}^{2} + x_{1}^{2} \\right)} \\sin{\\left(\\phi \\right)}}{2}\\right) + \\sqrt{t_{\\textrm{hop}12}} \\sqrt{t_{\\textrm{hop}22}} x_{1} \\operatorname{G_{1}}{\\left(p_{1}^{2} + x_{1}^{2} \\right)} \\sin{\\left(\\phi \\right)} + x_{2} \\left(- \\frac{\\kappa_\\textrm{c2}}{2} + \\frac{t_{\\textrm{hop}12} t_{\\textrm{hop}22} \\operatorname{G_{1}}{\\left(p_{1}^{2} + x_{1}^{2} \\right)} \\cos{\\left(\\phi \\right)}}{2}\\right)$"
      ],
      "text/plain": [
       "-p_1*sqrt(t_{\\textrm{hop}12})*sqrt(t_{\\textrm{hop}22})*G_1(p_1**2 + x_{1}**2)*cos(\\phi) - p_2*(-\\omega_2 + \\omega_{\\textrm{d}} - t_{\\textrm{hop}12}*t_{\\textrm{hop}22}*G_1(p_1**2 + x_{1}**2)*sin(\\phi)/2) + sqrt(t_{\\textrm{hop}12})*sqrt(t_{\\textrm{hop}22})*x_{1}*G_1(p_1**2 + x_{1}**2)*sin(\\phi) + x_2*(-\\kappa_\\textrm{c2}/2 + t_{\\textrm{hop}12}*t_{\\textrm{hop}22}*G_1(p_1**2 + x_{1}**2)*cos(\\phi)/2)"
      ]
     },
     "execution_count": 13,
     "metadata": {},
     "output_type": "execute_result"
    },
    {
     "data": {
      "text/latex": [
       "$\\displaystyle - 2 p_{1} \\sqrt{t_{\\textrm{hop}12}} \\sqrt{t_{\\textrm{hop}22}} x_{1} \\cos{\\left(\\phi \\right)} \\left. \\frac{d}{d \\xi_{1}} \\operatorname{G_{1}}{\\left(\\xi_{1} \\right)} \\right|_{\\substack{ \\xi_{1}=p_{1}^{2} + x_{1}^{2} }} + p_{2} t_{\\textrm{hop}12} t_{\\textrm{hop}22} x_{1} \\sin{\\left(\\phi \\right)} \\left. \\frac{d}{d \\xi_{1}} \\operatorname{G_{1}}{\\left(\\xi_{1} \\right)} \\right|_{\\substack{ \\xi_{1}=p_{1}^{2} + x_{1}^{2} }} + 2 \\sqrt{t_{\\textrm{hop}12}} \\sqrt{t_{\\textrm{hop}22}} x_{1}^{2} \\sin{\\left(\\phi \\right)} \\left. \\frac{d}{d \\xi_{1}} \\operatorname{G_{1}}{\\left(\\xi_{1} \\right)} \\right|_{\\substack{ \\xi_{1}=p_{1}^{2} + x_{1}^{2} }} + \\sqrt{t_{\\textrm{hop}12}} \\sqrt{t_{\\textrm{hop}22}} \\operatorname{G_{1}}{\\left(p_{1}^{2} + x_{1}^{2} \\right)} \\sin{\\left(\\phi \\right)} + t_{\\textrm{hop}12} t_{\\textrm{hop}22} x_{2} x_{1} \\cos{\\left(\\phi \\right)} \\left. \\frac{d}{d \\xi_{1}} \\operatorname{G_{1}}{\\left(\\xi_{1} \\right)} \\right|_{\\substack{ \\xi_{1}=p_{1}^{2} + x_{1}^{2} }}$"
      ],
      "text/plain": [
       "-2*p_1*sqrt(t_{\\textrm{hop}12})*sqrt(t_{\\textrm{hop}22})*x_{1}*cos(\\phi)*Subs(Derivative(G_1(_xi_1), _xi_1), _xi_1, p_1**2 + x_{1}**2) + p_2*t_{\\textrm{hop}12}*t_{\\textrm{hop}22}*x_{1}*sin(\\phi)*Subs(Derivative(G_1(_xi_1), _xi_1), _xi_1, p_1**2 + x_{1}**2) + 2*sqrt(t_{\\textrm{hop}12})*sqrt(t_{\\textrm{hop}22})*x_{1}**2*sin(\\phi)*Subs(Derivative(G_1(_xi_1), _xi_1), _xi_1, p_1**2 + x_{1}**2) + sqrt(t_{\\textrm{hop}12})*sqrt(t_{\\textrm{hop}22})*G_1(p_1**2 + x_{1}**2)*sin(\\phi) + t_{\\textrm{hop}12}*t_{\\textrm{hop}22}*x_2*x_{1}*cos(\\phi)*Subs(Derivative(G_1(_xi_1), _xi_1), _xi_1, p_1**2 + x_{1}**2)"
      ]
     },
     "execution_count": 13,
     "metadata": {},
     "output_type": "execute_result"
    },
    {
     "data": {
      "text/latex": [
       "$\\displaystyle - 2 p_{1} \\sqrt{t_{\\textrm{hop}12}} \\sqrt{t_{\\textrm{hop}22}} x_{1} \\cos{\\left(\\phi \\right)} \\left. \\frac{d}{d \\xi_{1}} \\operatorname{G_{1}}{\\left(\\xi_{1} \\right)} \\right|_{\\substack{ \\xi_{1}=p_{1}^{2} + x_{1}^{2} }} + p_{2} t_{\\textrm{hop}12} t_{\\textrm{hop}22} x_{1} \\sin{\\left(\\phi \\right)} \\left. \\frac{d}{d \\xi_{1}} \\operatorname{G_{1}}{\\left(\\xi_{1} \\right)} \\right|_{\\substack{ \\xi_{1}=p_{1}^{2} + x_{1}^{2} }} + 2 \\sqrt{t_{\\textrm{hop}12}} \\sqrt{t_{\\textrm{hop}22}} x_{1}^{2} \\sin{\\left(\\phi \\right)} \\left. \\frac{d}{d \\xi_{1}} \\operatorname{G_{1}}{\\left(\\xi_{1} \\right)} \\right|_{\\substack{ \\xi_{1}=p_{1}^{2} + x_{1}^{2} }} + \\sqrt{t_{\\textrm{hop}12}} \\sqrt{t_{\\textrm{hop}22}} \\operatorname{G_{1}}{\\left(p_{1}^{2} + x_{1}^{2} \\right)} \\sin{\\left(\\phi \\right)} + t_{\\textrm{hop}12} t_{\\textrm{hop}22} x_{2} x_{1} \\cos{\\left(\\phi \\right)} \\left. \\frac{d}{d \\xi_{1}} \\operatorname{G_{1}}{\\left(\\xi_{1} \\right)} \\right|_{\\substack{ \\xi_{1}=p_{1}^{2} + x_{1}^{2} }}$"
      ],
      "text/plain": [
       "-2*p_1*sqrt(t_{\\textrm{hop}12})*sqrt(t_{\\textrm{hop}22})*x_{1}*cos(\\phi)*Subs(Derivative(G_1(_xi_1), _xi_1), _xi_1, p_1**2 + x_{1}**2) + p_2*t_{\\textrm{hop}12}*t_{\\textrm{hop}22}*x_{1}*sin(\\phi)*Subs(Derivative(G_1(_xi_1), _xi_1), _xi_1, p_1**2 + x_{1}**2) + 2*sqrt(t_{\\textrm{hop}12})*sqrt(t_{\\textrm{hop}22})*x_{1}**2*sin(\\phi)*Subs(Derivative(G_1(_xi_1), _xi_1), _xi_1, p_1**2 + x_{1}**2) + sqrt(t_{\\textrm{hop}12})*sqrt(t_{\\textrm{hop}22})*G_1(p_1**2 + x_{1}**2)*sin(\\phi) + t_{\\textrm{hop}12}*t_{\\textrm{hop}22}*x_2*x_{1}*cos(\\phi)*Subs(Derivative(G_1(_xi_1), _xi_1), _xi_1, p_1**2 + x_{1}**2)"
      ]
     },
     "execution_count": 13,
     "metadata": {},
     "output_type": "execute_result"
    }
   ],
   "source": [
    "# second test that everything still works after the substitution, and that also the derivation works\n",
    "re(d_alpha2.subs(exp(- I * phase), cos(phase) - I * sin(phase)).doit()).subs(subst_dict)\n",
    "diff(_, x1) # seems to work perfectly\n",
    "simplify(_.doit())"
   ]
  },
  {
   "cell_type": "code",
   "execution_count": 14,
   "metadata": {},
   "outputs": [
    {
     "data": {
      "text/latex": [
       "$\\displaystyle \\left[\\begin{matrix}- \\frac{\\kappa_\\textrm{c1}}{2} + \\frac{t_{\\textrm{hop}11} t_{\\textrm{hop}21} \\operatorname{G_{2}}{\\left(p_{2}^{2} + x_{2}^{2} \\right)}}{2} & \\omega_{1} - \\omega_{\\textrm{d}} & - 2 p_{2} \\sqrt{t_{\\textrm{hop}11}} \\sqrt{t_{\\textrm{hop}21}} x_{2} \\left. \\frac{d}{d \\xi_{1}} \\operatorname{G_{2}}{\\left(\\xi_{1} \\right)} \\right|_{\\substack{ \\xi_{1}=p_{2}^{2} + x_{2}^{2} }} + t_{\\textrm{hop}11} t_{\\textrm{hop}21} x_{2} x_{1} \\left. \\frac{d}{d \\xi_{1}} \\operatorname{G_{2}}{\\left(\\xi_{1} \\right)} \\right|_{\\substack{ \\xi_{1}=p_{2}^{2} + x_{2}^{2} }} & - 2 p_{2}^{2} \\sqrt{t_{\\textrm{hop}11}} \\sqrt{t_{\\textrm{hop}21}} \\left. \\frac{d}{d \\xi_{1}} \\operatorname{G_{2}}{\\left(\\xi_{1} \\right)} \\right|_{\\substack{ \\xi_{1}=p_{2}^{2} + x_{2}^{2} }} + p_{2} t_{\\textrm{hop}11} t_{\\textrm{hop}21} x_{1} \\left. \\frac{d}{d \\xi_{1}} \\operatorname{G_{2}}{\\left(\\xi_{1} \\right)} \\right|_{\\substack{ \\xi_{1}=p_{2}^{2} + x_{2}^{2} }} - \\sqrt{t_{\\textrm{hop}11}} \\sqrt{t_{\\textrm{hop}21}} \\operatorname{G_{2}}{\\left(p_{2}^{2} + x_{2}^{2} \\right)}\\\\- \\omega_{1} + \\omega_{\\textrm{d}} & - \\frac{\\kappa_\\textrm{c1}}{2} + \\frac{t_{\\textrm{hop}11} t_{\\textrm{hop}21} \\operatorname{G_{2}}{\\left(p_{2}^{2} + x_{2}^{2} \\right)}}{2} & p_{1} t_{\\textrm{hop}11} t_{\\textrm{hop}21} x_{2} \\left. \\frac{d}{d \\xi_{1}} \\operatorname{G_{2}}{\\left(\\xi_{1} \\right)} \\right|_{\\substack{ \\xi_{1}=p_{2}^{2} + x_{2}^{2} }} + 2 \\sqrt{t_{\\textrm{hop}11}} \\sqrt{t_{\\textrm{hop}21}} x_{2}^{2} \\left. \\frac{d}{d \\xi_{1}} \\operatorname{G_{2}}{\\left(\\xi_{1} \\right)} \\right|_{\\substack{ \\xi_{1}=p_{2}^{2} + x_{2}^{2} }} + \\sqrt{t_{\\textrm{hop}11}} \\sqrt{t_{\\textrm{hop}21}} \\operatorname{G_{2}}{\\left(p_{2}^{2} + x_{2}^{2} \\right)} & p_{1} p_{2} t_{\\textrm{hop}11} t_{\\textrm{hop}21} \\left. \\frac{d}{d \\xi_{1}} \\operatorname{G_{2}}{\\left(\\xi_{1} \\right)} \\right|_{\\substack{ \\xi_{1}=p_{2}^{2} + x_{2}^{2} }} + 2 p_{2} \\sqrt{t_{\\textrm{hop}11}} \\sqrt{t_{\\textrm{hop}21}} x_{2} \\left. \\frac{d}{d \\xi_{1}} \\operatorname{G_{2}}{\\left(\\xi_{1} \\right)} \\right|_{\\substack{ \\xi_{1}=p_{2}^{2} + x_{2}^{2} }}\\\\p_{2} t_{\\textrm{hop}12} t_{\\textrm{hop}22} x_{1} \\sin{\\left(\\phi \\right)} \\left. \\frac{d}{d \\xi_{1}} \\operatorname{G_{1}}{\\left(\\xi_{1} \\right)} \\right|_{\\substack{ \\xi_{1}=p_{1}^{2} + x_{1}^{2} }} - 2 \\sqrt{t_{\\textrm{hop}12}} \\sqrt{t_{\\textrm{hop}22}} x_{1} \\left(p_{1} \\cos{\\left(\\phi \\right)} - x_{1} \\sin{\\left(\\phi \\right)}\\right) \\left. \\frac{d}{d \\xi_{1}} \\operatorname{G_{1}}{\\left(\\xi_{1} \\right)} \\right|_{\\substack{ \\xi_{1}=p_{1}^{2} + x_{1}^{2} }} + \\sqrt{t_{\\textrm{hop}12}} \\sqrt{t_{\\textrm{hop}22}} \\operatorname{G_{1}}{\\left(p_{1}^{2} + x_{1}^{2} \\right)} \\sin{\\left(\\phi \\right)} + t_{\\textrm{hop}12} t_{\\textrm{hop}22} x_{2} x_{1} \\cos{\\left(\\phi \\right)} \\left. \\frac{d}{d \\xi_{1}} \\operatorname{G_{1}}{\\left(\\xi_{1} \\right)} \\right|_{\\substack{ \\xi_{1}=p_{1}^{2} + x_{1}^{2} }} & p_{1} p_{2} t_{\\textrm{hop}12} t_{\\textrm{hop}22} \\sin{\\left(\\phi \\right)} \\left. \\frac{d}{d \\xi_{1}} \\operatorname{G_{1}}{\\left(\\xi_{1} \\right)} \\right|_{\\substack{ \\xi_{1}=p_{1}^{2} + x_{1}^{2} }} - 2 p_{1} \\sqrt{t_{\\textrm{hop}12}} \\sqrt{t_{\\textrm{hop}22}} \\left(p_{1} \\cos{\\left(\\phi \\right)} - x_{1} \\sin{\\left(\\phi \\right)}\\right) \\left. \\frac{d}{d \\xi_{1}} \\operatorname{G_{1}}{\\left(\\xi_{1} \\right)} \\right|_{\\substack{ \\xi_{1}=p_{1}^{2} + x_{1}^{2} }} + p_{1} t_{\\textrm{hop}12} t_{\\textrm{hop}22} x_{2} \\cos{\\left(\\phi \\right)} \\left. \\frac{d}{d \\xi_{1}} \\operatorname{G_{1}}{\\left(\\xi_{1} \\right)} \\right|_{\\substack{ \\xi_{1}=p_{1}^{2} + x_{1}^{2} }} - \\sqrt{t_{\\textrm{hop}12}} \\sqrt{t_{\\textrm{hop}22}} \\operatorname{G_{1}}{\\left(p_{1}^{2} + x_{1}^{2} \\right)} \\cos{\\left(\\phi \\right)} & - \\frac{\\kappa_\\textrm{c2}}{2} + \\frac{t_{\\textrm{hop}12} t_{\\textrm{hop}22} \\operatorname{G_{1}}{\\left(p_{1}^{2} + x_{1}^{2} \\right)} \\cos{\\left(\\phi \\right)}}{2} & \\omega_{2} - \\omega_{\\textrm{d}} + \\frac{t_{\\textrm{hop}12} t_{\\textrm{hop}22} \\operatorname{G_{1}}{\\left(p_{1}^{2} + x_{1}^{2} \\right)} \\sin{\\left(\\phi \\right)}}{2}\\\\p_{2} t_{\\textrm{hop}12} t_{\\textrm{hop}22} x_{1} \\cos{\\left(\\phi \\right)} \\left. \\frac{d}{d \\xi_{1}} \\operatorname{G_{1}}{\\left(\\xi_{1} \\right)} \\right|_{\\substack{ \\xi_{1}=p_{1}^{2} + x_{1}^{2} }} + 2 \\sqrt{t_{\\textrm{hop}12}} \\sqrt{t_{\\textrm{hop}22}} x_{1} \\left(p_{1} \\sin{\\left(\\phi \\right)} + x_{1} \\cos{\\left(\\phi \\right)}\\right) \\left. \\frac{d}{d \\xi_{1}} \\operatorname{G_{1}}{\\left(\\xi_{1} \\right)} \\right|_{\\substack{ \\xi_{1}=p_{1}^{2} + x_{1}^{2} }} + \\sqrt{t_{\\textrm{hop}12}} \\sqrt{t_{\\textrm{hop}22}} \\operatorname{G_{1}}{\\left(p_{1}^{2} + x_{1}^{2} \\right)} \\cos{\\left(\\phi \\right)} - t_{\\textrm{hop}12} t_{\\textrm{hop}22} x_{2} x_{1} \\sin{\\left(\\phi \\right)} \\left. \\frac{d}{d \\xi_{1}} \\operatorname{G_{1}}{\\left(\\xi_{1} \\right)} \\right|_{\\substack{ \\xi_{1}=p_{1}^{2} + x_{1}^{2} }} & p_{1} p_{2} t_{\\textrm{hop}12} t_{\\textrm{hop}22} \\cos{\\left(\\phi \\right)} \\left. \\frac{d}{d \\xi_{1}} \\operatorname{G_{1}}{\\left(\\xi_{1} \\right)} \\right|_{\\substack{ \\xi_{1}=p_{1}^{2} + x_{1}^{2} }} + 2 p_{1} \\sqrt{t_{\\textrm{hop}12}} \\sqrt{t_{\\textrm{hop}22}} \\left(p_{1} \\sin{\\left(\\phi \\right)} + x_{1} \\cos{\\left(\\phi \\right)}\\right) \\left. \\frac{d}{d \\xi_{1}} \\operatorname{G_{1}}{\\left(\\xi_{1} \\right)} \\right|_{\\substack{ \\xi_{1}=p_{1}^{2} + x_{1}^{2} }} - p_{1} t_{\\textrm{hop}12} t_{\\textrm{hop}22} x_{2} \\sin{\\left(\\phi \\right)} \\left. \\frac{d}{d \\xi_{1}} \\operatorname{G_{1}}{\\left(\\xi_{1} \\right)} \\right|_{\\substack{ \\xi_{1}=p_{1}^{2} + x_{1}^{2} }} + \\sqrt{t_{\\textrm{hop}12}} \\sqrt{t_{\\textrm{hop}22}} \\operatorname{G_{1}}{\\left(p_{1}^{2} + x_{1}^{2} \\right)} \\sin{\\left(\\phi \\right)} & - \\omega_{2} + \\omega_{\\textrm{d}} - \\frac{t_{\\textrm{hop}12} t_{\\textrm{hop}22} \\operatorname{G_{1}}{\\left(p_{1}^{2} + x_{1}^{2} \\right)} \\sin{\\left(\\phi \\right)}}{2} & - \\frac{\\kappa_\\textrm{c2}}{2} + \\frac{t_{\\textrm{hop}12} t_{\\textrm{hop}22} \\operatorname{G_{1}}{\\left(p_{1}^{2} + x_{1}^{2} \\right)} \\cos{\\left(\\phi \\right)}}{2}\\end{matrix}\\right]$"
      ],
      "text/plain": [
       "Matrix([\n",
       "[                                                                                                                                                                                                                                                                                                                                                                                                              -\\kappa_\\textrm{c1}/2 + t_{\\textrm{hop}11}*t_{\\textrm{hop}21}*G_2(p_2**2 + x_2**2)/2,                                                                                                                                                                                                                                                                                                                                                                                                                                                               \\omega_1 - \\omega_{\\textrm{d}},                                                                      -2*p_2*sqrt(t_{\\textrm{hop}11})*sqrt(t_{\\textrm{hop}21})*x_2*Subs(Derivative(G_2(_xi_1), _xi_1), _xi_1, p_2**2 + x_2**2) + t_{\\textrm{hop}11}*t_{\\textrm{hop}21}*x_2*x_{1}*Subs(Derivative(G_2(_xi_1), _xi_1), _xi_1, p_2**2 + x_2**2), -2*p_2**2*sqrt(t_{\\textrm{hop}11})*sqrt(t_{\\textrm{hop}21})*Subs(Derivative(G_2(_xi_1), _xi_1), _xi_1, p_2**2 + x_2**2) + p_2*t_{\\textrm{hop}11}*t_{\\textrm{hop}21}*x_{1}*Subs(Derivative(G_2(_xi_1), _xi_1), _xi_1, p_2**2 + x_2**2) - sqrt(t_{\\textrm{hop}11})*sqrt(t_{\\textrm{hop}21})*G_2(p_2**2 + x_2**2)],\n",
       "[                                                                                                                                                                                                                                                                                                                                                                                                                                                                   -\\omega_1 + \\omega_{\\textrm{d}},                                                                                                                                                                                                                                                                                                                                                                                                         -\\kappa_\\textrm{c1}/2 + t_{\\textrm{hop}11}*t_{\\textrm{hop}21}*G_2(p_2**2 + x_2**2)/2, p_1*t_{\\textrm{hop}11}*t_{\\textrm{hop}21}*x_2*Subs(Derivative(G_2(_xi_1), _xi_1), _xi_1, p_2**2 + x_2**2) + 2*sqrt(t_{\\textrm{hop}11})*sqrt(t_{\\textrm{hop}21})*x_2**2*Subs(Derivative(G_2(_xi_1), _xi_1), _xi_1, p_2**2 + x_2**2) + sqrt(t_{\\textrm{hop}11})*sqrt(t_{\\textrm{hop}21})*G_2(p_2**2 + x_2**2),                                                                            p_1*p_2*t_{\\textrm{hop}11}*t_{\\textrm{hop}21}*Subs(Derivative(G_2(_xi_1), _xi_1), _xi_1, p_2**2 + x_2**2) + 2*p_2*sqrt(t_{\\textrm{hop}11})*sqrt(t_{\\textrm{hop}21})*x_2*Subs(Derivative(G_2(_xi_1), _xi_1), _xi_1, p_2**2 + x_2**2)],\n",
       "[p_2*t_{\\textrm{hop}12}*t_{\\textrm{hop}22}*x_{1}*sin(\\phi)*Subs(Derivative(G_1(_xi_1), _xi_1), _xi_1, p_1**2 + x_{1}**2) - 2*sqrt(t_{\\textrm{hop}12})*sqrt(t_{\\textrm{hop}22})*x_{1}*(p_1*cos(\\phi) - x_{1}*sin(\\phi))*Subs(Derivative(G_1(_xi_1), _xi_1), _xi_1, p_1**2 + x_{1}**2) + sqrt(t_{\\textrm{hop}12})*sqrt(t_{\\textrm{hop}22})*G_1(p_1**2 + x_{1}**2)*sin(\\phi) + t_{\\textrm{hop}12}*t_{\\textrm{hop}22}*x_2*x_{1}*cos(\\phi)*Subs(Derivative(G_1(_xi_1), _xi_1), _xi_1, p_1**2 + x_{1}**2), p_1*p_2*t_{\\textrm{hop}12}*t_{\\textrm{hop}22}*sin(\\phi)*Subs(Derivative(G_1(_xi_1), _xi_1), _xi_1, p_1**2 + x_{1}**2) - 2*p_1*sqrt(t_{\\textrm{hop}12})*sqrt(t_{\\textrm{hop}22})*(p_1*cos(\\phi) - x_{1}*sin(\\phi))*Subs(Derivative(G_1(_xi_1), _xi_1), _xi_1, p_1**2 + x_{1}**2) + p_1*t_{\\textrm{hop}12}*t_{\\textrm{hop}22}*x_2*cos(\\phi)*Subs(Derivative(G_1(_xi_1), _xi_1), _xi_1, p_1**2 + x_{1}**2) - sqrt(t_{\\textrm{hop}12})*sqrt(t_{\\textrm{hop}22})*G_1(p_1**2 + x_{1}**2)*cos(\\phi),                                                                                                                                                                                                            -\\kappa_\\textrm{c2}/2 + t_{\\textrm{hop}12}*t_{\\textrm{hop}22}*G_1(p_1**2 + x_{1}**2)*cos(\\phi)/2,                                                                                                                                                                                                      \\omega_2 - \\omega_{\\textrm{d}} + t_{\\textrm{hop}12}*t_{\\textrm{hop}22}*G_1(p_1**2 + x_{1}**2)*sin(\\phi)/2],\n",
       "[p_2*t_{\\textrm{hop}12}*t_{\\textrm{hop}22}*x_{1}*cos(\\phi)*Subs(Derivative(G_1(_xi_1), _xi_1), _xi_1, p_1**2 + x_{1}**2) + 2*sqrt(t_{\\textrm{hop}12})*sqrt(t_{\\textrm{hop}22})*x_{1}*(p_1*sin(\\phi) + x_{1}*cos(\\phi))*Subs(Derivative(G_1(_xi_1), _xi_1), _xi_1, p_1**2 + x_{1}**2) + sqrt(t_{\\textrm{hop}12})*sqrt(t_{\\textrm{hop}22})*G_1(p_1**2 + x_{1}**2)*cos(\\phi) - t_{\\textrm{hop}12}*t_{\\textrm{hop}22}*x_2*x_{1}*sin(\\phi)*Subs(Derivative(G_1(_xi_1), _xi_1), _xi_1, p_1**2 + x_{1}**2), p_1*p_2*t_{\\textrm{hop}12}*t_{\\textrm{hop}22}*cos(\\phi)*Subs(Derivative(G_1(_xi_1), _xi_1), _xi_1, p_1**2 + x_{1}**2) + 2*p_1*sqrt(t_{\\textrm{hop}12})*sqrt(t_{\\textrm{hop}22})*(p_1*sin(\\phi) + x_{1}*cos(\\phi))*Subs(Derivative(G_1(_xi_1), _xi_1), _xi_1, p_1**2 + x_{1}**2) - p_1*t_{\\textrm{hop}12}*t_{\\textrm{hop}22}*x_2*sin(\\phi)*Subs(Derivative(G_1(_xi_1), _xi_1), _xi_1, p_1**2 + x_{1}**2) + sqrt(t_{\\textrm{hop}12})*sqrt(t_{\\textrm{hop}22})*G_1(p_1**2 + x_{1}**2)*sin(\\phi),                                                                                                                                                                                                  -\\omega_2 + \\omega_{\\textrm{d}} - t_{\\textrm{hop}12}*t_{\\textrm{hop}22}*G_1(p_1**2 + x_{1}**2)*sin(\\phi)/2,                                                                                                                                                                                                               -\\kappa_\\textrm{c2}/2 + t_{\\textrm{hop}12}*t_{\\textrm{hop}22}*G_1(p_1**2 + x_{1}**2)*cos(\\phi)/2]])"
      ]
     },
     "execution_count": 14,
     "metadata": {},
     "output_type": "execute_result"
    }
   ],
   "source": [
    "jacobian_components = [[diff(vf_comp, var) for var in real_quadratures] for vf_comp in vf]\n",
    "jacobian = Matrix(jacobian_components)\n",
    "jacobian"
   ]
  },
  {
   "cell_type": "code",
   "execution_count": 15,
   "metadata": {},
   "outputs": [
    {
     "data": {
      "text/plain": [
       "'alpha1*alpha2*t_hop_1_1*t_hop_2_1*Subs(Derivative(G_2(_xi_1), _xi_1), _xi_1, N_2) - 2*alpha2*alpha2_i*sqrt(t_hop_1_1)*sqrt(t_hop_2_1)*Subs(Derivative(G_2(_xi_1), _xi_1), _xi_1, N_2)'"
      ]
     },
     "execution_count": 15,
     "metadata": {},
     "output_type": "execute_result"
    }
   ],
   "source": [
    "expr_to_parsable(jacobian[0,2], string_subst_dict) # seems to hard to automate the substitution of the derivative functions..."
   ]
  },
  {
   "cell_type": "code",
   "execution_count": 16,
   "metadata": {},
   "outputs": [
    {
     "data": {
      "text/plain": [
       "'/home/michiel/Documents/postdoc_viola/code/shared/nh_nl_dynamics_dimer/experiment_numerics'"
      ]
     },
     "execution_count": 16,
     "metadata": {},
     "output_type": "execute_result"
    }
   ],
   "source": [
    "pwd"
   ]
  },
  {
   "cell_type": "markdown",
   "metadata": {},
   "source": [
    "# Test some stuff to have something more automatic"
   ]
  },
  {
   "cell_type": "markdown",
   "metadata": {},
   "source": [
    "## First for general functions, a substitution function"
   ]
  },
  {
   "cell_type": "code",
   "execution_count": 17,
   "metadata": {},
   "outputs": [
    {
     "data": {
      "text/latex": [
       "$\\displaystyle - \\frac{\\kappa_\\textrm{c1}}{2} + \\frac{t_{\\textrm{hop}11} t_{\\textrm{hop}21} \\operatorname{G_{2}}{\\left(p_{2}^{2} + x_{2}^{2} \\right)}}{2}$"
      ],
      "text/plain": [
       "-\\kappa_\\textrm{c1}/2 + t_{\\textrm{hop}11}*t_{\\textrm{hop}21}*G_2(p_2**2 + x_2**2)/2"
      ]
     },
     "execution_count": 17,
     "metadata": {},
     "output_type": "execute_result"
    }
   ],
   "source": [
    "expr = jacobian[0,0]\n",
    "expr"
   ]
  },
  {
   "cell_type": "code",
   "execution_count": 18,
   "metadata": {},
   "outputs": [
    {
     "data": {
      "text/latex": [
       "$\\displaystyle - \\frac{\\kappa_\\textrm{c1}}{2} + \\frac{t_{\\textrm{hop}11} t_{\\textrm{hop}21} \\operatorname{G_{2}}{\\left(p_{2}^{2} + x_{2}^{2} \\right)}}{2}$"
      ],
      "text/plain": [
       "-\\kappa_\\textrm{c1}/2 + t_{\\textrm{hop}11}*t_{\\textrm{hop}21}*G_2(p_2**2 + x_2**2)/2"
      ]
     },
     "execution_count": 18,
     "metadata": {},
     "output_type": "execute_result"
    }
   ],
   "source": [
    "expr.subs(G_N2, eta0) # does not work..."
   ]
  },
  {
   "cell_type": "code",
   "execution_count": 19,
   "metadata": {},
   "outputs": [
    {
     "data": {
      "text/latex": [
       "$\\displaystyle \\operatorname{G_{2}}{\\left(p_{2}^{2} + x_{2}^{2} \\right)}$"
      ],
      "text/plain": [
       "G_2(p_2**2 + x_2**2)"
      ]
     },
     "execution_count": 19,
     "metadata": {},
     "output_type": "execute_result"
    },
    {
     "data": {
      "text/latex": [
       "$\\displaystyle p_{2}^{2} + x_{2}^{2}$"
      ],
      "text/plain": [
       "p_2**2 + x_2**2"
      ]
     },
     "execution_count": 19,
     "metadata": {},
     "output_type": "execute_result"
    }
   ],
   "source": [
    "funcske = expr.atoms(Function).pop()\n",
    "funcske\n",
    "argske = funcske.args[0]\n",
    "argske # niet nodig eigenlijk blijkbaar..."
   ]
  },
  {
   "cell_type": "code",
   "execution_count": 20,
   "metadata": {},
   "outputs": [
    {
     "data": {
      "text/latex": [
       "$\\displaystyle \\frac{\\eta_{0} t_{\\textrm{hop}11} t_{\\textrm{hop}21}}{2} - \\frac{\\kappa_\\textrm{c1}}{2}$"
      ],
      "text/plain": [
       "\\eta_{0}*t_{\\textrm{hop}11}*t_{\\textrm{hop}21}/2 - \\kappa_\\textrm{c1}/2"
      ]
     },
     "execution_count": 20,
     "metadata": {},
     "output_type": "execute_result"
    },
    {
     "data": {
      "text/latex": [
       "$\\displaystyle \\frac{\\eta_{0} t_{\\textrm{hop}11} t_{\\textrm{hop}21}}{2} - \\frac{\\kappa_\\textrm{c1}}{2}$"
      ],
      "text/plain": [
       "\\eta_{0}*t_{\\textrm{hop}11}*t_{\\textrm{hop}21}/2 - \\kappa_\\textrm{c1}/2"
      ]
     },
     "execution_count": 20,
     "metadata": {},
     "output_type": "execute_result"
    }
   ],
   "source": [
    "# First to get the regular linear model:\n",
    "expr.subs(funcske, eta0).doit()\n",
    "substitute_function(expr, eta0)[0] # reusabble code"
   ]
  },
  {
   "cell_type": "code",
   "execution_count": 21,
   "metadata": {},
   "outputs": [
    {
     "name": "stderr",
     "output_type": "stream",
     "text": [
      "/home/michiel/Documents/postdoc_viola/code/shared/nh_nl_dynamics_dimer/michiel_numerics/sympy_tricks.py:14: UserWarning: Er is geen functie om te vervangen...\n",
      "  warnings.warn(\"Er is geen functie om te vervangen...\")\n"
     ]
    },
    {
     "data": {
      "text/latex": [
       "$\\displaystyle x_{1}$"
      ],
      "text/plain": [
       "x_{1}"
      ]
     },
     "execution_count": 21,
     "metadata": {},
     "output_type": "execute_result"
    }
   ],
   "source": [
    "substitute_function(x1, eta0)[0] # gewoon een waarschuwing"
   ]
  },
  {
   "cell_type": "markdown",
   "metadata": {},
   "source": [
    "## Next for the derivatives"
   ]
  },
  {
   "cell_type": "code",
   "execution_count": 22,
   "metadata": {},
   "outputs": [
    {
     "data": {
      "text/latex": [
       "$\\displaystyle - 2 p_{2} \\sqrt{t_{\\textrm{hop}11}} \\sqrt{t_{\\textrm{hop}21}} x_{2} \\left. \\frac{d}{d \\xi_{1}} \\operatorname{G_{2}}{\\left(\\xi_{1} \\right)} \\right|_{\\substack{ \\xi_{1}=p_{2}^{2} + x_{2}^{2} }} + t_{\\textrm{hop}11} t_{\\textrm{hop}21} x_{2} x_{1} \\left. \\frac{d}{d \\xi_{1}} \\operatorname{G_{2}}{\\left(\\xi_{1} \\right)} \\right|_{\\substack{ \\xi_{1}=p_{2}^{2} + x_{2}^{2} }}$"
      ],
      "text/plain": [
       "-2*p_2*sqrt(t_{\\textrm{hop}11})*sqrt(t_{\\textrm{hop}21})*x_2*Subs(Derivative(G_2(_xi_1), _xi_1), _xi_1, p_2**2 + x_2**2) + t_{\\textrm{hop}11}*t_{\\textrm{hop}21}*x_2*x_{1}*Subs(Derivative(G_2(_xi_1), _xi_1), _xi_1, p_2**2 + x_2**2)"
      ]
     },
     "execution_count": 22,
     "metadata": {},
     "output_type": "execute_result"
    }
   ],
   "source": [
    "expr = jacobian[0,2]\n",
    "expr"
   ]
  },
  {
   "cell_type": "code",
   "execution_count": 23,
   "metadata": {},
   "outputs": [
    {
     "data": {
      "text/latex": [
       "$\\displaystyle \\frac{d}{d \\xi_{1}} \\operatorname{G_{2}}{\\left(\\xi_{1} \\right)}$"
      ],
      "text/plain": [
       "Derivative(G_2(_xi_1), _xi_1)"
      ]
     },
     "execution_count": 23,
     "metadata": {},
     "output_type": "execute_result"
    },
    {
     "data": {
      "text/latex": [
       "$\\displaystyle \\frac{d}{d \\xi_{1}} \\operatorname{G_{2}}{\\left(\\xi_{1} \\right)}$"
      ],
      "text/plain": [
       "Derivative(G_2(_xi_1), _xi_1)"
      ]
     },
     "execution_count": 23,
     "metadata": {},
     "output_type": "execute_result"
    }
   ],
   "source": [
    "deriv = expr.atoms(Derivative).pop()\n",
    "deriv\n",
    "list(expr.atoms(Derivative))[0]"
   ]
  },
  {
   "cell_type": "code",
   "execution_count": 24,
   "metadata": {},
   "outputs": [
    {
     "data": {
      "text/latex": [
       "$\\displaystyle \\operatorname{G_{2}}{\\left(\\xi_{1} \\right)}$"
      ],
      "text/plain": [
       "G_2(_xi_1)"
      ]
     },
     "execution_count": 24,
     "metadata": {},
     "output_type": "execute_result"
    },
    {
     "data": {
      "text/latex": [
       "$\\displaystyle \\xi_{1}$"
      ],
      "text/plain": [
       "_xi_1"
      ]
     },
     "execution_count": 24,
     "metadata": {},
     "output_type": "execute_result"
    }
   ],
   "source": [
    "funcske = deriv.args[0]\n",
    "funcske\n",
    "varske = deriv.args[1][0]\n",
    "varske"
   ]
  },
  {
   "cell_type": "code",
   "execution_count": 25,
   "metadata": {},
   "outputs": [
    {
     "data": {
      "text/latex": [
       "$\\displaystyle - 2 p_{2} \\sqrt{t_{\\textrm{hop}11}} \\sqrt{t_{\\textrm{hop}21}} x_{2} \\dot{G_{2}}{\\left(N_{2} \\right)} + t_{\\textrm{hop}11} t_{\\textrm{hop}21} x_{2} x_{1} \\dot{G_{2}}{\\left(N_{2} \\right)}$"
      ],
      "text/plain": [
       "-2*p_2*sqrt(t_{\\textrm{hop}11})*sqrt(t_{\\textrm{hop}21})*x_2*\\dot{G_{2}}(N_2) + t_{\\textrm{hop}11}*t_{\\textrm{hop}21}*x_2*x_{1}*\\dot{G_{2}}(N_2)"
      ]
     },
     "execution_count": 25,
     "metadata": {},
     "output_type": "execute_result"
    },
    {
     "data": {
      "text/latex": [
       "$\\displaystyle - 2 p_{2} \\sqrt{t_{\\textrm{hop}11}} \\sqrt{t_{\\textrm{hop}21}} x_{2} \\dot{G_{2}}{\\left(N_{2} \\right)} + t_{\\textrm{hop}11} t_{\\textrm{hop}21} x_{2} x_{1} \\dot{G_{2}}{\\left(N_{2} \\right)}$"
      ],
      "text/plain": [
       "-2*p_2*sqrt(t_{\\textrm{hop}11})*sqrt(t_{\\textrm{hop}21})*x_2*\\dot{G_{2}}(N_2) + t_{\\textrm{hop}11}*t_{\\textrm{hop}21}*x_2*x_{1}*\\dot{G_{2}}(N_2)"
      ]
     },
     "execution_count": 25,
     "metadata": {},
     "output_type": "execute_result"
    },
    {
     "data": {
      "text/latex": [
       "$\\displaystyle - 2 deriv_{G12(N2, mode idx = 2)} p_{2} \\sqrt{t_{\\textrm{hop}11}} \\sqrt{t_{\\textrm{hop}21}} x_{2} + deriv_{G12(N2, mode idx = 2)} t_{\\textrm{hop}11} t_{\\textrm{hop}21} x_{2} x_{1}$"
      ],
      "text/plain": [
       "-2*deriv_G12(N2, mode_idx = 2)*p_2*sqrt(t_{\\textrm{hop}11})*sqrt(t_{\\textrm{hop}21})*x_2 + deriv_G12(N2, mode_idx = 2)*t_{\\textrm{hop}11}*t_{\\textrm{hop}21}*x_2*x_{1}"
      ]
     },
     "execution_count": 25,
     "metadata": {},
     "output_type": "execute_result"
    },
    {
     "data": {
      "text/latex": [
       "$\\displaystyle - 2 deriv_{G12(N2, mode idx = 2)} p_{2} \\sqrt{t_{\\textrm{hop}11}} \\sqrt{t_{\\textrm{hop}21}} x_{2} + deriv_{G12(N2, mode idx = 2)} t_{\\textrm{hop}11} t_{\\textrm{hop}21} x_{2} x_{1}$"
      ],
      "text/plain": [
       "-2*deriv_G12(N2, mode_idx = 2)*p_2*sqrt(t_{\\textrm{hop}11})*sqrt(t_{\\textrm{hop}21})*x_2 + deriv_G12(N2, mode_idx = 2)*t_{\\textrm{hop}11}*t_{\\textrm{hop}21}*x_2*x_{1}"
      ]
     },
     "execution_count": 25,
     "metadata": {},
     "output_type": "execute_result"
    }
   ],
   "source": [
    "### second, to get the derivative function.\n",
    "# formally\n",
    "expr.subs(funcske, varske * dG2).doit()\n",
    "substitute_derivative(expr, dG2)[0] # reusabble code\n",
    "\n",
    "# for the code\n",
    "expr.subs(funcske, varske * s_dG2).doit()\n",
    "substitute_derivative(expr, s_dG2)[0] # reusable code"
   ]
  },
  {
   "cell_type": "code",
   "execution_count": 26,
   "metadata": {},
   "outputs": [
    {
     "name": "stderr",
     "output_type": "stream",
     "text": [
      "/home/michiel/Documents/postdoc_viola/code/shared/nh_nl_dynamics_dimer/michiel_numerics/sympy_tricks.py:28: UserWarning: Er is geen afgeleide om te vervangen...\n",
      "  warnings.warn(\"Er is geen afgeleide om te vervangen...\")\n"
     ]
    },
    {
     "data": {
      "text/latex": [
       "$\\displaystyle x_{1}$"
      ],
      "text/plain": [
       "x_{1}"
      ]
     },
     "execution_count": 26,
     "metadata": {},
     "output_type": "execute_result"
    }
   ],
   "source": [
    "substitute_derivative(x1, dG2)[0] # gewoon een waarschuwing"
   ]
  },
  {
   "cell_type": "markdown",
   "metadata": {},
   "source": [
    "# Towards numerical form of general jacobian"
   ]
  },
  {
   "cell_type": "code",
   "execution_count": 27,
   "metadata": {},
   "outputs": [
    {
     "data": {
      "text/latex": [
       "$\\displaystyle - \\frac{\\kappa_\\textrm{c1}}{2} + \\frac{t_{\\textrm{hop}11} t_{\\textrm{hop}21} \\operatorname{G_{2}}{\\left(p_{2}^{2} + x_{2}^{2} \\right)}}{2}$"
      ],
      "text/plain": [
       "-\\kappa_\\textrm{c1}/2 + t_{\\textrm{hop}11}*t_{\\textrm{hop}21}*G_2(p_2**2 + x_2**2)/2"
      ]
     },
     "execution_count": 27,
     "metadata": {},
     "output_type": "execute_result"
    }
   ],
   "source": [
    "jacobian[0,0]"
   ]
  },
  {
   "cell_type": "code",
   "execution_count": 28,
   "metadata": {},
   "outputs": [
    {
     "data": {
      "text/latex": [
       "$\\displaystyle \\operatorname{G_{2}}{\\left(p_{2}^{2} + x_{2}^{2} \\right)}$"
      ],
      "text/plain": [
       "G_2(p_2**2 + x_2**2)"
      ]
     },
     "execution_count": 28,
     "metadata": {},
     "output_type": "execute_result"
    }
   ],
   "source": [
    "g2tosubs = substitute_function(jacobian[0,0], eta0)[1]\n",
    "g2tosubs"
   ]
  },
  {
   "cell_type": "code",
   "execution_count": 29,
   "metadata": {},
   "outputs": [
    {
     "data": {
      "text/latex": [
       "$\\displaystyle \\left[\\begin{matrix}\\frac{G_{2} t_{\\textrm{hop}11} t_{\\textrm{hop}21}}{2} - \\frac{\\kappa_\\textrm{c1}}{2} & \\omega_{1} - \\omega_{\\textrm{d}} & - 2 p_{2} \\sqrt{t_{\\textrm{hop}11}} \\sqrt{t_{\\textrm{hop}21}} x_{2} \\left. \\frac{d}{d \\xi_{1}} \\operatorname{G_{2}}{\\left(\\xi_{1} \\right)} \\right|_{\\substack{ \\xi_{1}=p_{2}^{2} + x_{2}^{2} }} + t_{\\textrm{hop}11} t_{\\textrm{hop}21} x_{2} x_{1} \\left. \\frac{d}{d \\xi_{1}} \\operatorname{G_{2}}{\\left(\\xi_{1} \\right)} \\right|_{\\substack{ \\xi_{1}=p_{2}^{2} + x_{2}^{2} }} & - G_{2} \\sqrt{t_{\\textrm{hop}11}} \\sqrt{t_{\\textrm{hop}21}} - 2 p_{2}^{2} \\sqrt{t_{\\textrm{hop}11}} \\sqrt{t_{\\textrm{hop}21}} \\left. \\frac{d}{d \\xi_{1}} \\operatorname{G_{2}}{\\left(\\xi_{1} \\right)} \\right|_{\\substack{ \\xi_{1}=p_{2}^{2} + x_{2}^{2} }} + p_{2} t_{\\textrm{hop}11} t_{\\textrm{hop}21} x_{1} \\left. \\frac{d}{d \\xi_{1}} \\operatorname{G_{2}}{\\left(\\xi_{1} \\right)} \\right|_{\\substack{ \\xi_{1}=p_{2}^{2} + x_{2}^{2} }}\\\\- \\omega_{1} + \\omega_{\\textrm{d}} & \\frac{G_{2} t_{\\textrm{hop}11} t_{\\textrm{hop}21}}{2} - \\frac{\\kappa_\\textrm{c1}}{2} & G_{2} \\sqrt{t_{\\textrm{hop}11}} \\sqrt{t_{\\textrm{hop}21}} + p_{1} t_{\\textrm{hop}11} t_{\\textrm{hop}21} x_{2} \\left. \\frac{d}{d \\xi_{1}} \\operatorname{G_{2}}{\\left(\\xi_{1} \\right)} \\right|_{\\substack{ \\xi_{1}=p_{2}^{2} + x_{2}^{2} }} + 2 \\sqrt{t_{\\textrm{hop}11}} \\sqrt{t_{\\textrm{hop}21}} x_{2}^{2} \\left. \\frac{d}{d \\xi_{1}} \\operatorname{G_{2}}{\\left(\\xi_{1} \\right)} \\right|_{\\substack{ \\xi_{1}=p_{2}^{2} + x_{2}^{2} }} & p_{1} p_{2} t_{\\textrm{hop}11} t_{\\textrm{hop}21} \\left. \\frac{d}{d \\xi_{1}} \\operatorname{G_{2}}{\\left(\\xi_{1} \\right)} \\right|_{\\substack{ \\xi_{1}=p_{2}^{2} + x_{2}^{2} }} + 2 p_{2} \\sqrt{t_{\\textrm{hop}11}} \\sqrt{t_{\\textrm{hop}21}} x_{2} \\left. \\frac{d}{d \\xi_{1}} \\operatorname{G_{2}}{\\left(\\xi_{1} \\right)} \\right|_{\\substack{ \\xi_{1}=p_{2}^{2} + x_{2}^{2} }}\\\\p_{2} t_{\\textrm{hop}12} t_{\\textrm{hop}22} x_{1} \\sin{\\left(\\phi \\right)} \\left. \\frac{d}{d \\xi_{1}} \\operatorname{G_{1}}{\\left(\\xi_{1} \\right)} \\right|_{\\substack{ \\xi_{1}=p_{1}^{2} + x_{1}^{2} }} - 2 \\sqrt{t_{\\textrm{hop}12}} \\sqrt{t_{\\textrm{hop}22}} x_{1} \\left(p_{1} \\cos{\\left(\\phi \\right)} - x_{1} \\sin{\\left(\\phi \\right)}\\right) \\left. \\frac{d}{d \\xi_{1}} \\operatorname{G_{1}}{\\left(\\xi_{1} \\right)} \\right|_{\\substack{ \\xi_{1}=p_{1}^{2} + x_{1}^{2} }} + \\sqrt{t_{\\textrm{hop}12}} \\sqrt{t_{\\textrm{hop}22}} \\operatorname{G_{1}}{\\left(p_{1}^{2} + x_{1}^{2} \\right)} \\sin{\\left(\\phi \\right)} + t_{\\textrm{hop}12} t_{\\textrm{hop}22} x_{2} x_{1} \\cos{\\left(\\phi \\right)} \\left. \\frac{d}{d \\xi_{1}} \\operatorname{G_{1}}{\\left(\\xi_{1} \\right)} \\right|_{\\substack{ \\xi_{1}=p_{1}^{2} + x_{1}^{2} }} & p_{1} p_{2} t_{\\textrm{hop}12} t_{\\textrm{hop}22} \\sin{\\left(\\phi \\right)} \\left. \\frac{d}{d \\xi_{1}} \\operatorname{G_{1}}{\\left(\\xi_{1} \\right)} \\right|_{\\substack{ \\xi_{1}=p_{1}^{2} + x_{1}^{2} }} - 2 p_{1} \\sqrt{t_{\\textrm{hop}12}} \\sqrt{t_{\\textrm{hop}22}} \\left(p_{1} \\cos{\\left(\\phi \\right)} - x_{1} \\sin{\\left(\\phi \\right)}\\right) \\left. \\frac{d}{d \\xi_{1}} \\operatorname{G_{1}}{\\left(\\xi_{1} \\right)} \\right|_{\\substack{ \\xi_{1}=p_{1}^{2} + x_{1}^{2} }} + p_{1} t_{\\textrm{hop}12} t_{\\textrm{hop}22} x_{2} \\cos{\\left(\\phi \\right)} \\left. \\frac{d}{d \\xi_{1}} \\operatorname{G_{1}}{\\left(\\xi_{1} \\right)} \\right|_{\\substack{ \\xi_{1}=p_{1}^{2} + x_{1}^{2} }} - \\sqrt{t_{\\textrm{hop}12}} \\sqrt{t_{\\textrm{hop}22}} \\operatorname{G_{1}}{\\left(p_{1}^{2} + x_{1}^{2} \\right)} \\cos{\\left(\\phi \\right)} & - \\frac{\\kappa_\\textrm{c2}}{2} + \\frac{t_{\\textrm{hop}12} t_{\\textrm{hop}22} \\operatorname{G_{1}}{\\left(p_{1}^{2} + x_{1}^{2} \\right)} \\cos{\\left(\\phi \\right)}}{2} & \\omega_{2} - \\omega_{\\textrm{d}} + \\frac{t_{\\textrm{hop}12} t_{\\textrm{hop}22} \\operatorname{G_{1}}{\\left(p_{1}^{2} + x_{1}^{2} \\right)} \\sin{\\left(\\phi \\right)}}{2}\\\\p_{2} t_{\\textrm{hop}12} t_{\\textrm{hop}22} x_{1} \\cos{\\left(\\phi \\right)} \\left. \\frac{d}{d \\xi_{1}} \\operatorname{G_{1}}{\\left(\\xi_{1} \\right)} \\right|_{\\substack{ \\xi_{1}=p_{1}^{2} + x_{1}^{2} }} + 2 \\sqrt{t_{\\textrm{hop}12}} \\sqrt{t_{\\textrm{hop}22}} x_{1} \\left(p_{1} \\sin{\\left(\\phi \\right)} + x_{1} \\cos{\\left(\\phi \\right)}\\right) \\left. \\frac{d}{d \\xi_{1}} \\operatorname{G_{1}}{\\left(\\xi_{1} \\right)} \\right|_{\\substack{ \\xi_{1}=p_{1}^{2} + x_{1}^{2} }} + \\sqrt{t_{\\textrm{hop}12}} \\sqrt{t_{\\textrm{hop}22}} \\operatorname{G_{1}}{\\left(p_{1}^{2} + x_{1}^{2} \\right)} \\cos{\\left(\\phi \\right)} - t_{\\textrm{hop}12} t_{\\textrm{hop}22} x_{2} x_{1} \\sin{\\left(\\phi \\right)} \\left. \\frac{d}{d \\xi_{1}} \\operatorname{G_{1}}{\\left(\\xi_{1} \\right)} \\right|_{\\substack{ \\xi_{1}=p_{1}^{2} + x_{1}^{2} }} & p_{1} p_{2} t_{\\textrm{hop}12} t_{\\textrm{hop}22} \\cos{\\left(\\phi \\right)} \\left. \\frac{d}{d \\xi_{1}} \\operatorname{G_{1}}{\\left(\\xi_{1} \\right)} \\right|_{\\substack{ \\xi_{1}=p_{1}^{2} + x_{1}^{2} }} + 2 p_{1} \\sqrt{t_{\\textrm{hop}12}} \\sqrt{t_{\\textrm{hop}22}} \\left(p_{1} \\sin{\\left(\\phi \\right)} + x_{1} \\cos{\\left(\\phi \\right)}\\right) \\left. \\frac{d}{d \\xi_{1}} \\operatorname{G_{1}}{\\left(\\xi_{1} \\right)} \\right|_{\\substack{ \\xi_{1}=p_{1}^{2} + x_{1}^{2} }} - p_{1} t_{\\textrm{hop}12} t_{\\textrm{hop}22} x_{2} \\sin{\\left(\\phi \\right)} \\left. \\frac{d}{d \\xi_{1}} \\operatorname{G_{1}}{\\left(\\xi_{1} \\right)} \\right|_{\\substack{ \\xi_{1}=p_{1}^{2} + x_{1}^{2} }} + \\sqrt{t_{\\textrm{hop}12}} \\sqrt{t_{\\textrm{hop}22}} \\operatorname{G_{1}}{\\left(p_{1}^{2} + x_{1}^{2} \\right)} \\sin{\\left(\\phi \\right)} & - \\omega_{2} + \\omega_{\\textrm{d}} - \\frac{t_{\\textrm{hop}12} t_{\\textrm{hop}22} \\operatorname{G_{1}}{\\left(p_{1}^{2} + x_{1}^{2} \\right)} \\sin{\\left(\\phi \\right)}}{2} & - \\frac{\\kappa_\\textrm{c2}}{2} + \\frac{t_{\\textrm{hop}12} t_{\\textrm{hop}22} \\operatorname{G_{1}}{\\left(p_{1}^{2} + x_{1}^{2} \\right)} \\cos{\\left(\\phi \\right)}}{2}\\end{matrix}\\right]$"
      ],
      "text/plain": [
       "Matrix([\n",
       "[                                                                                                                                                                                                                                                                                                                                                                                                                                 G2*t_{\\textrm{hop}11}*t_{\\textrm{hop}21}/2 - \\kappa_\\textrm{c1}/2,                                                                                                                                                                                                                                                                                                                                                                                                                                                               \\omega_1 - \\omega_{\\textrm{d}},                                                    -2*p_2*sqrt(t_{\\textrm{hop}11})*sqrt(t_{\\textrm{hop}21})*x_2*Subs(Derivative(G_2(_xi_1), _xi_1), _xi_1, p_2**2 + x_2**2) + t_{\\textrm{hop}11}*t_{\\textrm{hop}21}*x_2*x_{1}*Subs(Derivative(G_2(_xi_1), _xi_1), _xi_1, p_2**2 + x_2**2), -G2*sqrt(t_{\\textrm{hop}11})*sqrt(t_{\\textrm{hop}21}) - 2*p_2**2*sqrt(t_{\\textrm{hop}11})*sqrt(t_{\\textrm{hop}21})*Subs(Derivative(G_2(_xi_1), _xi_1), _xi_1, p_2**2 + x_2**2) + p_2*t_{\\textrm{hop}11}*t_{\\textrm{hop}21}*x_{1}*Subs(Derivative(G_2(_xi_1), _xi_1), _xi_1, p_2**2 + x_2**2)],\n",
       "[                                                                                                                                                                                                                                                                                                                                                                                                                                                                   -\\omega_1 + \\omega_{\\textrm{d}},                                                                                                                                                                                                                                                                                                                                                                                                                            G2*t_{\\textrm{hop}11}*t_{\\textrm{hop}21}/2 - \\kappa_\\textrm{c1}/2, G2*sqrt(t_{\\textrm{hop}11})*sqrt(t_{\\textrm{hop}21}) + p_1*t_{\\textrm{hop}11}*t_{\\textrm{hop}21}*x_2*Subs(Derivative(G_2(_xi_1), _xi_1), _xi_1, p_2**2 + x_2**2) + 2*sqrt(t_{\\textrm{hop}11})*sqrt(t_{\\textrm{hop}21})*x_2**2*Subs(Derivative(G_2(_xi_1), _xi_1), _xi_1, p_2**2 + x_2**2),                                                          p_1*p_2*t_{\\textrm{hop}11}*t_{\\textrm{hop}21}*Subs(Derivative(G_2(_xi_1), _xi_1), _xi_1, p_2**2 + x_2**2) + 2*p_2*sqrt(t_{\\textrm{hop}11})*sqrt(t_{\\textrm{hop}21})*x_2*Subs(Derivative(G_2(_xi_1), _xi_1), _xi_1, p_2**2 + x_2**2)],\n",
       "[p_2*t_{\\textrm{hop}12}*t_{\\textrm{hop}22}*x_{1}*sin(\\phi)*Subs(Derivative(G_1(_xi_1), _xi_1), _xi_1, p_1**2 + x_{1}**2) - 2*sqrt(t_{\\textrm{hop}12})*sqrt(t_{\\textrm{hop}22})*x_{1}*(p_1*cos(\\phi) - x_{1}*sin(\\phi))*Subs(Derivative(G_1(_xi_1), _xi_1), _xi_1, p_1**2 + x_{1}**2) + sqrt(t_{\\textrm{hop}12})*sqrt(t_{\\textrm{hop}22})*G_1(p_1**2 + x_{1}**2)*sin(\\phi) + t_{\\textrm{hop}12}*t_{\\textrm{hop}22}*x_2*x_{1}*cos(\\phi)*Subs(Derivative(G_1(_xi_1), _xi_1), _xi_1, p_1**2 + x_{1}**2), p_1*p_2*t_{\\textrm{hop}12}*t_{\\textrm{hop}22}*sin(\\phi)*Subs(Derivative(G_1(_xi_1), _xi_1), _xi_1, p_1**2 + x_{1}**2) - 2*p_1*sqrt(t_{\\textrm{hop}12})*sqrt(t_{\\textrm{hop}22})*(p_1*cos(\\phi) - x_{1}*sin(\\phi))*Subs(Derivative(G_1(_xi_1), _xi_1), _xi_1, p_1**2 + x_{1}**2) + p_1*t_{\\textrm{hop}12}*t_{\\textrm{hop}22}*x_2*cos(\\phi)*Subs(Derivative(G_1(_xi_1), _xi_1), _xi_1, p_1**2 + x_{1}**2) - sqrt(t_{\\textrm{hop}12})*sqrt(t_{\\textrm{hop}22})*G_1(p_1**2 + x_{1}**2)*cos(\\phi),                                                                                                                                                                                          -\\kappa_\\textrm{c2}/2 + t_{\\textrm{hop}12}*t_{\\textrm{hop}22}*G_1(p_1**2 + x_{1}**2)*cos(\\phi)/2,                                                                                                                                                                                    \\omega_2 - \\omega_{\\textrm{d}} + t_{\\textrm{hop}12}*t_{\\textrm{hop}22}*G_1(p_1**2 + x_{1}**2)*sin(\\phi)/2],\n",
       "[p_2*t_{\\textrm{hop}12}*t_{\\textrm{hop}22}*x_{1}*cos(\\phi)*Subs(Derivative(G_1(_xi_1), _xi_1), _xi_1, p_1**2 + x_{1}**2) + 2*sqrt(t_{\\textrm{hop}12})*sqrt(t_{\\textrm{hop}22})*x_{1}*(p_1*sin(\\phi) + x_{1}*cos(\\phi))*Subs(Derivative(G_1(_xi_1), _xi_1), _xi_1, p_1**2 + x_{1}**2) + sqrt(t_{\\textrm{hop}12})*sqrt(t_{\\textrm{hop}22})*G_1(p_1**2 + x_{1}**2)*cos(\\phi) - t_{\\textrm{hop}12}*t_{\\textrm{hop}22}*x_2*x_{1}*sin(\\phi)*Subs(Derivative(G_1(_xi_1), _xi_1), _xi_1, p_1**2 + x_{1}**2), p_1*p_2*t_{\\textrm{hop}12}*t_{\\textrm{hop}22}*cos(\\phi)*Subs(Derivative(G_1(_xi_1), _xi_1), _xi_1, p_1**2 + x_{1}**2) + 2*p_1*sqrt(t_{\\textrm{hop}12})*sqrt(t_{\\textrm{hop}22})*(p_1*sin(\\phi) + x_{1}*cos(\\phi))*Subs(Derivative(G_1(_xi_1), _xi_1), _xi_1, p_1**2 + x_{1}**2) - p_1*t_{\\textrm{hop}12}*t_{\\textrm{hop}22}*x_2*sin(\\phi)*Subs(Derivative(G_1(_xi_1), _xi_1), _xi_1, p_1**2 + x_{1}**2) + sqrt(t_{\\textrm{hop}12})*sqrt(t_{\\textrm{hop}22})*G_1(p_1**2 + x_{1}**2)*sin(\\phi),                                                                                                                                                                                -\\omega_2 + \\omega_{\\textrm{d}} - t_{\\textrm{hop}12}*t_{\\textrm{hop}22}*G_1(p_1**2 + x_{1}**2)*sin(\\phi)/2,                                                                                                                                                                                             -\\kappa_\\textrm{c2}/2 + t_{\\textrm{hop}12}*t_{\\textrm{hop}22}*G_1(p_1**2 + x_{1}**2)*cos(\\phi)/2]])"
      ]
     },
     "execution_count": 29,
     "metadata": {},
     "output_type": "execute_result"
    }
   ],
   "source": [
    "jacobian_numerical = jacobian.subs(g2tosubs, s_G2)\n",
    "jacobian_numerical"
   ]
  },
  {
   "cell_type": "code",
   "execution_count": 30,
   "metadata": {},
   "outputs": [
    {
     "data": {
      "text/latex": [
       "$\\displaystyle \\frac{t_{\\textrm{hop}12} t_{\\textrm{hop}22} \\operatorname{G_{1}}{\\left(p_{1}^{2} + x_{1}^{2} \\right)}}{2}$"
      ],
      "text/plain": [
       "t_{\\textrm{hop}12}*t_{\\textrm{hop}22}*G_1(p_1**2 + x_{1}**2)/2"
      ]
     },
     "execution_count": 30,
     "metadata": {},
     "output_type": "execute_result"
    }
   ],
   "source": [
    "(jacobian[-1,-1] + kappa_cavity2 / 2) / cos(phase)\n",
    "tss = _"
   ]
  },
  {
   "cell_type": "code",
   "execution_count": 31,
   "metadata": {},
   "outputs": [
    {
     "data": {
      "text/latex": [
       "$\\displaystyle \\operatorname{G_{1}}{\\left(p_{1}^{2} + x_{1}^{2} \\right)}$"
      ],
      "text/plain": [
       "G_1(p_1**2 + x_{1}**2)"
      ]
     },
     "execution_count": 31,
     "metadata": {},
     "output_type": "execute_result"
    }
   ],
   "source": [
    "g1tosubs = substitute_function(tss, eta0)[1]\n",
    "g1tosubs"
   ]
  },
  {
   "cell_type": "code",
   "execution_count": 32,
   "metadata": {},
   "outputs": [
    {
     "data": {
      "text/latex": [
       "$\\displaystyle \\left[\\begin{matrix}\\frac{G_{2} t_{\\textrm{hop}11} t_{\\textrm{hop}21}}{2} - \\frac{\\kappa_\\textrm{c1}}{2} & \\omega_{1} - \\omega_{\\textrm{d}} & - 2 p_{2} \\sqrt{t_{\\textrm{hop}11}} \\sqrt{t_{\\textrm{hop}21}} x_{2} \\left. \\frac{d}{d \\xi_{1}} \\operatorname{G_{2}}{\\left(\\xi_{1} \\right)} \\right|_{\\substack{ \\xi_{1}=p_{2}^{2} + x_{2}^{2} }} + t_{\\textrm{hop}11} t_{\\textrm{hop}21} x_{2} x_{1} \\left. \\frac{d}{d \\xi_{1}} \\operatorname{G_{2}}{\\left(\\xi_{1} \\right)} \\right|_{\\substack{ \\xi_{1}=p_{2}^{2} + x_{2}^{2} }} & - G_{2} \\sqrt{t_{\\textrm{hop}11}} \\sqrt{t_{\\textrm{hop}21}} - 2 p_{2}^{2} \\sqrt{t_{\\textrm{hop}11}} \\sqrt{t_{\\textrm{hop}21}} \\left. \\frac{d}{d \\xi_{1}} \\operatorname{G_{2}}{\\left(\\xi_{1} \\right)} \\right|_{\\substack{ \\xi_{1}=p_{2}^{2} + x_{2}^{2} }} + p_{2} t_{\\textrm{hop}11} t_{\\textrm{hop}21} x_{1} \\left. \\frac{d}{d \\xi_{1}} \\operatorname{G_{2}}{\\left(\\xi_{1} \\right)} \\right|_{\\substack{ \\xi_{1}=p_{2}^{2} + x_{2}^{2} }}\\\\- \\omega_{1} + \\omega_{\\textrm{d}} & \\frac{G_{2} t_{\\textrm{hop}11} t_{\\textrm{hop}21}}{2} - \\frac{\\kappa_\\textrm{c1}}{2} & G_{2} \\sqrt{t_{\\textrm{hop}11}} \\sqrt{t_{\\textrm{hop}21}} + p_{1} t_{\\textrm{hop}11} t_{\\textrm{hop}21} x_{2} \\left. \\frac{d}{d \\xi_{1}} \\operatorname{G_{2}}{\\left(\\xi_{1} \\right)} \\right|_{\\substack{ \\xi_{1}=p_{2}^{2} + x_{2}^{2} }} + 2 \\sqrt{t_{\\textrm{hop}11}} \\sqrt{t_{\\textrm{hop}21}} x_{2}^{2} \\left. \\frac{d}{d \\xi_{1}} \\operatorname{G_{2}}{\\left(\\xi_{1} \\right)} \\right|_{\\substack{ \\xi_{1}=p_{2}^{2} + x_{2}^{2} }} & p_{1} p_{2} t_{\\textrm{hop}11} t_{\\textrm{hop}21} \\left. \\frac{d}{d \\xi_{1}} \\operatorname{G_{2}}{\\left(\\xi_{1} \\right)} \\right|_{\\substack{ \\xi_{1}=p_{2}^{2} + x_{2}^{2} }} + 2 p_{2} \\sqrt{t_{\\textrm{hop}11}} \\sqrt{t_{\\textrm{hop}21}} x_{2} \\left. \\frac{d}{d \\xi_{1}} \\operatorname{G_{2}}{\\left(\\xi_{1} \\right)} \\right|_{\\substack{ \\xi_{1}=p_{2}^{2} + x_{2}^{2} }}\\\\G_{1} \\sqrt{t_{\\textrm{hop}12}} \\sqrt{t_{\\textrm{hop}22}} \\sin{\\left(\\phi \\right)} + p_{2} t_{\\textrm{hop}12} t_{\\textrm{hop}22} x_{1} \\sin{\\left(\\phi \\right)} \\left. \\frac{d}{d \\xi_{1}} \\operatorname{G_{1}}{\\left(\\xi_{1} \\right)} \\right|_{\\substack{ \\xi_{1}=p_{1}^{2} + x_{1}^{2} }} - 2 \\sqrt{t_{\\textrm{hop}12}} \\sqrt{t_{\\textrm{hop}22}} x_{1} \\left(p_{1} \\cos{\\left(\\phi \\right)} - x_{1} \\sin{\\left(\\phi \\right)}\\right) \\left. \\frac{d}{d \\xi_{1}} \\operatorname{G_{1}}{\\left(\\xi_{1} \\right)} \\right|_{\\substack{ \\xi_{1}=p_{1}^{2} + x_{1}^{2} }} + t_{\\textrm{hop}12} t_{\\textrm{hop}22} x_{2} x_{1} \\cos{\\left(\\phi \\right)} \\left. \\frac{d}{d \\xi_{1}} \\operatorname{G_{1}}{\\left(\\xi_{1} \\right)} \\right|_{\\substack{ \\xi_{1}=p_{1}^{2} + x_{1}^{2} }} & - G_{1} \\sqrt{t_{\\textrm{hop}12}} \\sqrt{t_{\\textrm{hop}22}} \\cos{\\left(\\phi \\right)} + p_{1} p_{2} t_{\\textrm{hop}12} t_{\\textrm{hop}22} \\sin{\\left(\\phi \\right)} \\left. \\frac{d}{d \\xi_{1}} \\operatorname{G_{1}}{\\left(\\xi_{1} \\right)} \\right|_{\\substack{ \\xi_{1}=p_{1}^{2} + x_{1}^{2} }} - 2 p_{1} \\sqrt{t_{\\textrm{hop}12}} \\sqrt{t_{\\textrm{hop}22}} \\left(p_{1} \\cos{\\left(\\phi \\right)} - x_{1} \\sin{\\left(\\phi \\right)}\\right) \\left. \\frac{d}{d \\xi_{1}} \\operatorname{G_{1}}{\\left(\\xi_{1} \\right)} \\right|_{\\substack{ \\xi_{1}=p_{1}^{2} + x_{1}^{2} }} + p_{1} t_{\\textrm{hop}12} t_{\\textrm{hop}22} x_{2} \\cos{\\left(\\phi \\right)} \\left. \\frac{d}{d \\xi_{1}} \\operatorname{G_{1}}{\\left(\\xi_{1} \\right)} \\right|_{\\substack{ \\xi_{1}=p_{1}^{2} + x_{1}^{2} }} & \\frac{G_{1} t_{\\textrm{hop}12} t_{\\textrm{hop}22} \\cos{\\left(\\phi \\right)}}{2} - \\frac{\\kappa_\\textrm{c2}}{2} & \\frac{G_{1} t_{\\textrm{hop}12} t_{\\textrm{hop}22} \\sin{\\left(\\phi \\right)}}{2} + \\omega_{2} - \\omega_{\\textrm{d}}\\\\G_{1} \\sqrt{t_{\\textrm{hop}12}} \\sqrt{t_{\\textrm{hop}22}} \\cos{\\left(\\phi \\right)} + p_{2} t_{\\textrm{hop}12} t_{\\textrm{hop}22} x_{1} \\cos{\\left(\\phi \\right)} \\left. \\frac{d}{d \\xi_{1}} \\operatorname{G_{1}}{\\left(\\xi_{1} \\right)} \\right|_{\\substack{ \\xi_{1}=p_{1}^{2} + x_{1}^{2} }} + 2 \\sqrt{t_{\\textrm{hop}12}} \\sqrt{t_{\\textrm{hop}22}} x_{1} \\left(p_{1} \\sin{\\left(\\phi \\right)} + x_{1} \\cos{\\left(\\phi \\right)}\\right) \\left. \\frac{d}{d \\xi_{1}} \\operatorname{G_{1}}{\\left(\\xi_{1} \\right)} \\right|_{\\substack{ \\xi_{1}=p_{1}^{2} + x_{1}^{2} }} - t_{\\textrm{hop}12} t_{\\textrm{hop}22} x_{2} x_{1} \\sin{\\left(\\phi \\right)} \\left. \\frac{d}{d \\xi_{1}} \\operatorname{G_{1}}{\\left(\\xi_{1} \\right)} \\right|_{\\substack{ \\xi_{1}=p_{1}^{2} + x_{1}^{2} }} & G_{1} \\sqrt{t_{\\textrm{hop}12}} \\sqrt{t_{\\textrm{hop}22}} \\sin{\\left(\\phi \\right)} + p_{1} p_{2} t_{\\textrm{hop}12} t_{\\textrm{hop}22} \\cos{\\left(\\phi \\right)} \\left. \\frac{d}{d \\xi_{1}} \\operatorname{G_{1}}{\\left(\\xi_{1} \\right)} \\right|_{\\substack{ \\xi_{1}=p_{1}^{2} + x_{1}^{2} }} + 2 p_{1} \\sqrt{t_{\\textrm{hop}12}} \\sqrt{t_{\\textrm{hop}22}} \\left(p_{1} \\sin{\\left(\\phi \\right)} + x_{1} \\cos{\\left(\\phi \\right)}\\right) \\left. \\frac{d}{d \\xi_{1}} \\operatorname{G_{1}}{\\left(\\xi_{1} \\right)} \\right|_{\\substack{ \\xi_{1}=p_{1}^{2} + x_{1}^{2} }} - p_{1} t_{\\textrm{hop}12} t_{\\textrm{hop}22} x_{2} \\sin{\\left(\\phi \\right)} \\left. \\frac{d}{d \\xi_{1}} \\operatorname{G_{1}}{\\left(\\xi_{1} \\right)} \\right|_{\\substack{ \\xi_{1}=p_{1}^{2} + x_{1}^{2} }} & - \\frac{G_{1} t_{\\textrm{hop}12} t_{\\textrm{hop}22} \\sin{\\left(\\phi \\right)}}{2} - \\omega_{2} + \\omega_{\\textrm{d}} & \\frac{G_{1} t_{\\textrm{hop}12} t_{\\textrm{hop}22} \\cos{\\left(\\phi \\right)}}{2} - \\frac{\\kappa_\\textrm{c2}}{2}\\end{matrix}\\right]$"
      ],
      "text/plain": [
       "Matrix([\n",
       "[                                                                                                                                                                                                                                                                                                                                                                                                             G2*t_{\\textrm{hop}11}*t_{\\textrm{hop}21}/2 - \\kappa_\\textrm{c1}/2,                                                                                                                                                                                                                                                                                                                                                                                                                                            \\omega_1 - \\omega_{\\textrm{d}},                                                    -2*p_2*sqrt(t_{\\textrm{hop}11})*sqrt(t_{\\textrm{hop}21})*x_2*Subs(Derivative(G_2(_xi_1), _xi_1), _xi_1, p_2**2 + x_2**2) + t_{\\textrm{hop}11}*t_{\\textrm{hop}21}*x_2*x_{1}*Subs(Derivative(G_2(_xi_1), _xi_1), _xi_1, p_2**2 + x_2**2), -G2*sqrt(t_{\\textrm{hop}11})*sqrt(t_{\\textrm{hop}21}) - 2*p_2**2*sqrt(t_{\\textrm{hop}11})*sqrt(t_{\\textrm{hop}21})*Subs(Derivative(G_2(_xi_1), _xi_1), _xi_1, p_2**2 + x_2**2) + p_2*t_{\\textrm{hop}11}*t_{\\textrm{hop}21}*x_{1}*Subs(Derivative(G_2(_xi_1), _xi_1), _xi_1, p_2**2 + x_2**2)],\n",
       "[                                                                                                                                                                                                                                                                                                                                                                                                                                               -\\omega_1 + \\omega_{\\textrm{d}},                                                                                                                                                                                                                                                                                                                                                                                                         G2*t_{\\textrm{hop}11}*t_{\\textrm{hop}21}/2 - \\kappa_\\textrm{c1}/2, G2*sqrt(t_{\\textrm{hop}11})*sqrt(t_{\\textrm{hop}21}) + p_1*t_{\\textrm{hop}11}*t_{\\textrm{hop}21}*x_2*Subs(Derivative(G_2(_xi_1), _xi_1), _xi_1, p_2**2 + x_2**2) + 2*sqrt(t_{\\textrm{hop}11})*sqrt(t_{\\textrm{hop}21})*x_2**2*Subs(Derivative(G_2(_xi_1), _xi_1), _xi_1, p_2**2 + x_2**2),                                                          p_1*p_2*t_{\\textrm{hop}11}*t_{\\textrm{hop}21}*Subs(Derivative(G_2(_xi_1), _xi_1), _xi_1, p_2**2 + x_2**2) + 2*p_2*sqrt(t_{\\textrm{hop}11})*sqrt(t_{\\textrm{hop}21})*x_2*Subs(Derivative(G_2(_xi_1), _xi_1), _xi_1, p_2**2 + x_2**2)],\n",
       "[G1*sqrt(t_{\\textrm{hop}12})*sqrt(t_{\\textrm{hop}22})*sin(\\phi) + p_2*t_{\\textrm{hop}12}*t_{\\textrm{hop}22}*x_{1}*sin(\\phi)*Subs(Derivative(G_1(_xi_1), _xi_1), _xi_1, p_1**2 + x_{1}**2) - 2*sqrt(t_{\\textrm{hop}12})*sqrt(t_{\\textrm{hop}22})*x_{1}*(p_1*cos(\\phi) - x_{1}*sin(\\phi))*Subs(Derivative(G_1(_xi_1), _xi_1), _xi_1, p_1**2 + x_{1}**2) + t_{\\textrm{hop}12}*t_{\\textrm{hop}22}*x_2*x_{1}*cos(\\phi)*Subs(Derivative(G_1(_xi_1), _xi_1), _xi_1, p_1**2 + x_{1}**2), -G1*sqrt(t_{\\textrm{hop}12})*sqrt(t_{\\textrm{hop}22})*cos(\\phi) + p_1*p_2*t_{\\textrm{hop}12}*t_{\\textrm{hop}22}*sin(\\phi)*Subs(Derivative(G_1(_xi_1), _xi_1), _xi_1, p_1**2 + x_{1}**2) - 2*p_1*sqrt(t_{\\textrm{hop}12})*sqrt(t_{\\textrm{hop}22})*(p_1*cos(\\phi) - x_{1}*sin(\\phi))*Subs(Derivative(G_1(_xi_1), _xi_1), _xi_1, p_1**2 + x_{1}**2) + p_1*t_{\\textrm{hop}12}*t_{\\textrm{hop}22}*x_2*cos(\\phi)*Subs(Derivative(G_1(_xi_1), _xi_1), _xi_1, p_1**2 + x_{1}**2),                                                                                                                                                                                                               G1*t_{\\textrm{hop}12}*t_{\\textrm{hop}22}*cos(\\phi)/2 - \\kappa_\\textrm{c2}/2,                                                                                                                                                                                                        G1*t_{\\textrm{hop}12}*t_{\\textrm{hop}22}*sin(\\phi)/2 + \\omega_2 - \\omega_{\\textrm{d}}],\n",
       "[G1*sqrt(t_{\\textrm{hop}12})*sqrt(t_{\\textrm{hop}22})*cos(\\phi) + p_2*t_{\\textrm{hop}12}*t_{\\textrm{hop}22}*x_{1}*cos(\\phi)*Subs(Derivative(G_1(_xi_1), _xi_1), _xi_1, p_1**2 + x_{1}**2) + 2*sqrt(t_{\\textrm{hop}12})*sqrt(t_{\\textrm{hop}22})*x_{1}*(p_1*sin(\\phi) + x_{1}*cos(\\phi))*Subs(Derivative(G_1(_xi_1), _xi_1), _xi_1, p_1**2 + x_{1}**2) - t_{\\textrm{hop}12}*t_{\\textrm{hop}22}*x_2*x_{1}*sin(\\phi)*Subs(Derivative(G_1(_xi_1), _xi_1), _xi_1, p_1**2 + x_{1}**2),  G1*sqrt(t_{\\textrm{hop}12})*sqrt(t_{\\textrm{hop}22})*sin(\\phi) + p_1*p_2*t_{\\textrm{hop}12}*t_{\\textrm{hop}22}*cos(\\phi)*Subs(Derivative(G_1(_xi_1), _xi_1), _xi_1, p_1**2 + x_{1}**2) + 2*p_1*sqrt(t_{\\textrm{hop}12})*sqrt(t_{\\textrm{hop}22})*(p_1*sin(\\phi) + x_{1}*cos(\\phi))*Subs(Derivative(G_1(_xi_1), _xi_1), _xi_1, p_1**2 + x_{1}**2) - p_1*t_{\\textrm{hop}12}*t_{\\textrm{hop}22}*x_2*sin(\\phi)*Subs(Derivative(G_1(_xi_1), _xi_1), _xi_1, p_1**2 + x_{1}**2),                                                                                                                                                                                                    -G1*t_{\\textrm{hop}12}*t_{\\textrm{hop}22}*sin(\\phi)/2 - \\omega_2 + \\omega_{\\textrm{d}},                                                                                                                                                                                                                  G1*t_{\\textrm{hop}12}*t_{\\textrm{hop}22}*cos(\\phi)/2 - \\kappa_\\textrm{c2}/2]])"
      ]
     },
     "execution_count": 32,
     "metadata": {},
     "output_type": "execute_result"
    }
   ],
   "source": [
    "jacobian_numerical = jacobian_numerical.subs(g1tosubs, s_G1)\n",
    "jacobian_numerical"
   ]
  },
  {
   "cell_type": "code",
   "execution_count": 33,
   "metadata": {},
   "outputs": [
    {
     "data": {
      "text/latex": [
       "$\\displaystyle - 2 p_{2} \\sqrt{t_{\\textrm{hop}11}} \\sqrt{t_{\\textrm{hop}21}} x_{2} \\left. \\frac{d}{d \\xi_{1}} \\operatorname{G_{2}}{\\left(\\xi_{1} \\right)} \\right|_{\\substack{ \\xi_{1}=p_{2}^{2} + x_{2}^{2} }} + t_{\\textrm{hop}11} t_{\\textrm{hop}21} x_{2} x_{1} \\left. \\frac{d}{d \\xi_{1}} \\operatorname{G_{2}}{\\left(\\xi_{1} \\right)} \\right|_{\\substack{ \\xi_{1}=p_{2}^{2} + x_{2}^{2} }}$"
      ],
      "text/plain": [
       "-2*p_2*sqrt(t_{\\textrm{hop}11})*sqrt(t_{\\textrm{hop}21})*x_2*Subs(Derivative(G_2(_xi_1), _xi_1), _xi_1, p_2**2 + x_2**2) + t_{\\textrm{hop}11}*t_{\\textrm{hop}21}*x_2*x_{1}*Subs(Derivative(G_2(_xi_1), _xi_1), _xi_1, p_2**2 + x_2**2)"
      ]
     },
     "execution_count": 33,
     "metadata": {},
     "output_type": "execute_result"
    }
   ],
   "source": [
    "jacobian[0,2]\n",
    "tss = _"
   ]
  },
  {
   "cell_type": "code",
   "execution_count": 34,
   "metadata": {},
   "outputs": [
    {
     "data": {
      "text/latex": [
       "$\\displaystyle \\operatorname{G_{2}}{\\left(\\xi_{1} \\right)}$"
      ],
      "text/plain": [
       "G_2(_xi_1)"
      ]
     },
     "execution_count": 34,
     "metadata": {},
     "output_type": "execute_result"
    },
    {
     "data": {
      "text/latex": [
       "$\\displaystyle \\xi_{1}$"
      ],
      "text/plain": [
       "_xi_1"
      ]
     },
     "execution_count": 34,
     "metadata": {},
     "output_type": "execute_result"
    }
   ],
   "source": [
    "_, g2difftosubs, dumvar2 = substitute_derivative(tss, eta0)\n",
    "g2difftosubs\n",
    "dumvar2"
   ]
  },
  {
   "cell_type": "code",
   "execution_count": 35,
   "metadata": {},
   "outputs": [
    {
     "data": {
      "text/latex": [
       "$\\displaystyle - 2 deriv_{G12(N2, mode idx = 2)} p_{2} \\sqrt{t_{\\textrm{hop}11}} \\sqrt{t_{\\textrm{hop}21}} x_{2} + deriv_{G12(N2, mode idx = 2)} t_{\\textrm{hop}11} t_{\\textrm{hop}21} x_{2} x_{1}$"
      ],
      "text/plain": [
       "-2*deriv_G12(N2, mode_idx = 2)*p_2*sqrt(t_{\\textrm{hop}11})*sqrt(t_{\\textrm{hop}21})*x_2 + deriv_G12(N2, mode_idx = 2)*t_{\\textrm{hop}11}*t_{\\textrm{hop}21}*x_2*x_{1}"
      ]
     },
     "execution_count": 35,
     "metadata": {},
     "output_type": "execute_result"
    },
    {
     "data": {
      "text/latex": [
       "$\\displaystyle - 2 deriv_{G12(N2, mode idx = 2)} p_{2} \\sqrt{t_{\\textrm{hop}11}} \\sqrt{t_{\\textrm{hop}21}} x_{2} + deriv_{G12(N2, mode idx = 2)} t_{\\textrm{hop}11} t_{\\textrm{hop}21} x_{2} x_{1}$"
      ],
      "text/plain": [
       "-2*deriv_G12(N2, mode_idx = 2)*p_2*sqrt(t_{\\textrm{hop}11})*sqrt(t_{\\textrm{hop}21})*x_2 + deriv_G12(N2, mode_idx = 2)*t_{\\textrm{hop}11}*t_{\\textrm{hop}21}*x_2*x_{1}"
      ]
     },
     "execution_count": 35,
     "metadata": {},
     "output_type": "execute_result"
    }
   ],
   "source": [
    "jacobian[0,2].subs(g2difftosubs, dumvar2 * s_dG2).doit()\n",
    "jacobian_numerical.subs(g2difftosubs, dumvar2 * s_dG2).doit()[0,2]"
   ]
  },
  {
   "cell_type": "code",
   "execution_count": 36,
   "metadata": {},
   "outputs": [
    {
     "data": {
      "text/latex": [
       "$\\displaystyle \\left[\\begin{matrix}\\frac{G_{2} t_{\\textrm{hop}11} t_{\\textrm{hop}21}}{2} - \\frac{\\kappa_\\textrm{c1}}{2} & \\omega_{1} - \\omega_{\\textrm{d}} & - 2 deriv_{G12(N2, mode idx = 2)} p_{2} \\sqrt{t_{\\textrm{hop}11}} \\sqrt{t_{\\textrm{hop}21}} x_{2} + deriv_{G12(N2, mode idx = 2)} t_{\\textrm{hop}11} t_{\\textrm{hop}21} x_{2} x_{1} & - G_{2} \\sqrt{t_{\\textrm{hop}11}} \\sqrt{t_{\\textrm{hop}21}} - 2 deriv_{G12(N2, mode idx = 2)} p_{2}^{2} \\sqrt{t_{\\textrm{hop}11}} \\sqrt{t_{\\textrm{hop}21}} + deriv_{G12(N2, mode idx = 2)} p_{2} t_{\\textrm{hop}11} t_{\\textrm{hop}21} x_{1}\\\\- \\omega_{1} + \\omega_{\\textrm{d}} & \\frac{G_{2} t_{\\textrm{hop}11} t_{\\textrm{hop}21}}{2} - \\frac{\\kappa_\\textrm{c1}}{2} & G_{2} \\sqrt{t_{\\textrm{hop}11}} \\sqrt{t_{\\textrm{hop}21}} + deriv_{G12(N2, mode idx = 2)} p_{1} t_{\\textrm{hop}11} t_{\\textrm{hop}21} x_{2} + 2 deriv_{G12(N2, mode idx = 2)} \\sqrt{t_{\\textrm{hop}11}} \\sqrt{t_{\\textrm{hop}21}} x_{2}^{2} & deriv_{G12(N2, mode idx = 2)} p_{1} p_{2} t_{\\textrm{hop}11} t_{\\textrm{hop}21} + 2 deriv_{G12(N2, mode idx = 2)} p_{2} \\sqrt{t_{\\textrm{hop}11}} \\sqrt{t_{\\textrm{hop}21}} x_{2}\\\\G_{1} \\sqrt{t_{\\textrm{hop}12}} \\sqrt{t_{\\textrm{hop}22}} \\sin{\\left(\\phi \\right)} + p_{2} t_{\\textrm{hop}12} t_{\\textrm{hop}22} x_{1} \\sin{\\left(\\phi \\right)} \\left. \\frac{d}{d \\xi_{1}} \\operatorname{G_{1}}{\\left(\\xi_{1} \\right)} \\right|_{\\substack{ \\xi_{1}=p_{1}^{2} + x_{1}^{2} }} - 2 \\sqrt{t_{\\textrm{hop}12}} \\sqrt{t_{\\textrm{hop}22}} x_{1} \\left(p_{1} \\cos{\\left(\\phi \\right)} - x_{1} \\sin{\\left(\\phi \\right)}\\right) \\left. \\frac{d}{d \\xi_{1}} \\operatorname{G_{1}}{\\left(\\xi_{1} \\right)} \\right|_{\\substack{ \\xi_{1}=p_{1}^{2} + x_{1}^{2} }} + t_{\\textrm{hop}12} t_{\\textrm{hop}22} x_{2} x_{1} \\cos{\\left(\\phi \\right)} \\left. \\frac{d}{d \\xi_{1}} \\operatorname{G_{1}}{\\left(\\xi_{1} \\right)} \\right|_{\\substack{ \\xi_{1}=p_{1}^{2} + x_{1}^{2} }} & - G_{1} \\sqrt{t_{\\textrm{hop}12}} \\sqrt{t_{\\textrm{hop}22}} \\cos{\\left(\\phi \\right)} + p_{1} p_{2} t_{\\textrm{hop}12} t_{\\textrm{hop}22} \\sin{\\left(\\phi \\right)} \\left. \\frac{d}{d \\xi_{1}} \\operatorname{G_{1}}{\\left(\\xi_{1} \\right)} \\right|_{\\substack{ \\xi_{1}=p_{1}^{2} + x_{1}^{2} }} - 2 p_{1} \\sqrt{t_{\\textrm{hop}12}} \\sqrt{t_{\\textrm{hop}22}} \\left(p_{1} \\cos{\\left(\\phi \\right)} - x_{1} \\sin{\\left(\\phi \\right)}\\right) \\left. \\frac{d}{d \\xi_{1}} \\operatorname{G_{1}}{\\left(\\xi_{1} \\right)} \\right|_{\\substack{ \\xi_{1}=p_{1}^{2} + x_{1}^{2} }} + p_{1} t_{\\textrm{hop}12} t_{\\textrm{hop}22} x_{2} \\cos{\\left(\\phi \\right)} \\left. \\frac{d}{d \\xi_{1}} \\operatorname{G_{1}}{\\left(\\xi_{1} \\right)} \\right|_{\\substack{ \\xi_{1}=p_{1}^{2} + x_{1}^{2} }} & \\frac{G_{1} t_{\\textrm{hop}12} t_{\\textrm{hop}22} \\cos{\\left(\\phi \\right)}}{2} - \\frac{\\kappa_\\textrm{c2}}{2} & \\frac{G_{1} t_{\\textrm{hop}12} t_{\\textrm{hop}22} \\sin{\\left(\\phi \\right)}}{2} + \\omega_{2} - \\omega_{\\textrm{d}}\\\\G_{1} \\sqrt{t_{\\textrm{hop}12}} \\sqrt{t_{\\textrm{hop}22}} \\cos{\\left(\\phi \\right)} + p_{2} t_{\\textrm{hop}12} t_{\\textrm{hop}22} x_{1} \\cos{\\left(\\phi \\right)} \\left. \\frac{d}{d \\xi_{1}} \\operatorname{G_{1}}{\\left(\\xi_{1} \\right)} \\right|_{\\substack{ \\xi_{1}=p_{1}^{2} + x_{1}^{2} }} + 2 \\sqrt{t_{\\textrm{hop}12}} \\sqrt{t_{\\textrm{hop}22}} x_{1} \\left(p_{1} \\sin{\\left(\\phi \\right)} + x_{1} \\cos{\\left(\\phi \\right)}\\right) \\left. \\frac{d}{d \\xi_{1}} \\operatorname{G_{1}}{\\left(\\xi_{1} \\right)} \\right|_{\\substack{ \\xi_{1}=p_{1}^{2} + x_{1}^{2} }} - t_{\\textrm{hop}12} t_{\\textrm{hop}22} x_{2} x_{1} \\sin{\\left(\\phi \\right)} \\left. \\frac{d}{d \\xi_{1}} \\operatorname{G_{1}}{\\left(\\xi_{1} \\right)} \\right|_{\\substack{ \\xi_{1}=p_{1}^{2} + x_{1}^{2} }} & G_{1} \\sqrt{t_{\\textrm{hop}12}} \\sqrt{t_{\\textrm{hop}22}} \\sin{\\left(\\phi \\right)} + p_{1} p_{2} t_{\\textrm{hop}12} t_{\\textrm{hop}22} \\cos{\\left(\\phi \\right)} \\left. \\frac{d}{d \\xi_{1}} \\operatorname{G_{1}}{\\left(\\xi_{1} \\right)} \\right|_{\\substack{ \\xi_{1}=p_{1}^{2} + x_{1}^{2} }} + 2 p_{1} \\sqrt{t_{\\textrm{hop}12}} \\sqrt{t_{\\textrm{hop}22}} \\left(p_{1} \\sin{\\left(\\phi \\right)} + x_{1} \\cos{\\left(\\phi \\right)}\\right) \\left. \\frac{d}{d \\xi_{1}} \\operatorname{G_{1}}{\\left(\\xi_{1} \\right)} \\right|_{\\substack{ \\xi_{1}=p_{1}^{2} + x_{1}^{2} }} - p_{1} t_{\\textrm{hop}12} t_{\\textrm{hop}22} x_{2} \\sin{\\left(\\phi \\right)} \\left. \\frac{d}{d \\xi_{1}} \\operatorname{G_{1}}{\\left(\\xi_{1} \\right)} \\right|_{\\substack{ \\xi_{1}=p_{1}^{2} + x_{1}^{2} }} & - \\frac{G_{1} t_{\\textrm{hop}12} t_{\\textrm{hop}22} \\sin{\\left(\\phi \\right)}}{2} - \\omega_{2} + \\omega_{\\textrm{d}} & \\frac{G_{1} t_{\\textrm{hop}12} t_{\\textrm{hop}22} \\cos{\\left(\\phi \\right)}}{2} - \\frac{\\kappa_\\textrm{c2}}{2}\\end{matrix}\\right]$"
      ],
      "text/plain": [
       "Matrix([\n",
       "[                                                                                                                                                                                                                                                                                                                                                                                                             G2*t_{\\textrm{hop}11}*t_{\\textrm{hop}21}/2 - \\kappa_\\textrm{c1}/2,                                                                                                                                                                                                                                                                                                                                                                                                                                            \\omega_1 - \\omega_{\\textrm{d}},                                                    -2*deriv_G12(N2, mode_idx = 2)*p_2*sqrt(t_{\\textrm{hop}11})*sqrt(t_{\\textrm{hop}21})*x_2 + deriv_G12(N2, mode_idx = 2)*t_{\\textrm{hop}11}*t_{\\textrm{hop}21}*x_2*x_{1}, -G2*sqrt(t_{\\textrm{hop}11})*sqrt(t_{\\textrm{hop}21}) - 2*deriv_G12(N2, mode_idx = 2)*p_2**2*sqrt(t_{\\textrm{hop}11})*sqrt(t_{\\textrm{hop}21}) + deriv_G12(N2, mode_idx = 2)*p_2*t_{\\textrm{hop}11}*t_{\\textrm{hop}21}*x_{1}],\n",
       "[                                                                                                                                                                                                                                                                                                                                                                                                                                               -\\omega_1 + \\omega_{\\textrm{d}},                                                                                                                                                                                                                                                                                                                                                                                                         G2*t_{\\textrm{hop}11}*t_{\\textrm{hop}21}/2 - \\kappa_\\textrm{c1}/2, G2*sqrt(t_{\\textrm{hop}11})*sqrt(t_{\\textrm{hop}21}) + deriv_G12(N2, mode_idx = 2)*p_1*t_{\\textrm{hop}11}*t_{\\textrm{hop}21}*x_2 + 2*deriv_G12(N2, mode_idx = 2)*sqrt(t_{\\textrm{hop}11})*sqrt(t_{\\textrm{hop}21})*x_2**2,                                                          deriv_G12(N2, mode_idx = 2)*p_1*p_2*t_{\\textrm{hop}11}*t_{\\textrm{hop}21} + 2*deriv_G12(N2, mode_idx = 2)*p_2*sqrt(t_{\\textrm{hop}11})*sqrt(t_{\\textrm{hop}21})*x_2],\n",
       "[G1*sqrt(t_{\\textrm{hop}12})*sqrt(t_{\\textrm{hop}22})*sin(\\phi) + p_2*t_{\\textrm{hop}12}*t_{\\textrm{hop}22}*x_{1}*sin(\\phi)*Subs(Derivative(G_1(_xi_1), _xi_1), _xi_1, p_1**2 + x_{1}**2) - 2*sqrt(t_{\\textrm{hop}12})*sqrt(t_{\\textrm{hop}22})*x_{1}*(p_1*cos(\\phi) - x_{1}*sin(\\phi))*Subs(Derivative(G_1(_xi_1), _xi_1), _xi_1, p_1**2 + x_{1}**2) + t_{\\textrm{hop}12}*t_{\\textrm{hop}22}*x_2*x_{1}*cos(\\phi)*Subs(Derivative(G_1(_xi_1), _xi_1), _xi_1, p_1**2 + x_{1}**2), -G1*sqrt(t_{\\textrm{hop}12})*sqrt(t_{\\textrm{hop}22})*cos(\\phi) + p_1*p_2*t_{\\textrm{hop}12}*t_{\\textrm{hop}22}*sin(\\phi)*Subs(Derivative(G_1(_xi_1), _xi_1), _xi_1, p_1**2 + x_{1}**2) - 2*p_1*sqrt(t_{\\textrm{hop}12})*sqrt(t_{\\textrm{hop}22})*(p_1*cos(\\phi) - x_{1}*sin(\\phi))*Subs(Derivative(G_1(_xi_1), _xi_1), _xi_1, p_1**2 + x_{1}**2) + p_1*t_{\\textrm{hop}12}*t_{\\textrm{hop}22}*x_2*cos(\\phi)*Subs(Derivative(G_1(_xi_1), _xi_1), _xi_1, p_1**2 + x_{1}**2),                                                                                                                                               G1*t_{\\textrm{hop}12}*t_{\\textrm{hop}22}*cos(\\phi)/2 - \\kappa_\\textrm{c2}/2,                                                                                                                                        G1*t_{\\textrm{hop}12}*t_{\\textrm{hop}22}*sin(\\phi)/2 + \\omega_2 - \\omega_{\\textrm{d}}],\n",
       "[G1*sqrt(t_{\\textrm{hop}12})*sqrt(t_{\\textrm{hop}22})*cos(\\phi) + p_2*t_{\\textrm{hop}12}*t_{\\textrm{hop}22}*x_{1}*cos(\\phi)*Subs(Derivative(G_1(_xi_1), _xi_1), _xi_1, p_1**2 + x_{1}**2) + 2*sqrt(t_{\\textrm{hop}12})*sqrt(t_{\\textrm{hop}22})*x_{1}*(p_1*sin(\\phi) + x_{1}*cos(\\phi))*Subs(Derivative(G_1(_xi_1), _xi_1), _xi_1, p_1**2 + x_{1}**2) - t_{\\textrm{hop}12}*t_{\\textrm{hop}22}*x_2*x_{1}*sin(\\phi)*Subs(Derivative(G_1(_xi_1), _xi_1), _xi_1, p_1**2 + x_{1}**2),  G1*sqrt(t_{\\textrm{hop}12})*sqrt(t_{\\textrm{hop}22})*sin(\\phi) + p_1*p_2*t_{\\textrm{hop}12}*t_{\\textrm{hop}22}*cos(\\phi)*Subs(Derivative(G_1(_xi_1), _xi_1), _xi_1, p_1**2 + x_{1}**2) + 2*p_1*sqrt(t_{\\textrm{hop}12})*sqrt(t_{\\textrm{hop}22})*(p_1*sin(\\phi) + x_{1}*cos(\\phi))*Subs(Derivative(G_1(_xi_1), _xi_1), _xi_1, p_1**2 + x_{1}**2) - p_1*t_{\\textrm{hop}12}*t_{\\textrm{hop}22}*x_2*sin(\\phi)*Subs(Derivative(G_1(_xi_1), _xi_1), _xi_1, p_1**2 + x_{1}**2),                                                                                                                                    -G1*t_{\\textrm{hop}12}*t_{\\textrm{hop}22}*sin(\\phi)/2 - \\omega_2 + \\omega_{\\textrm{d}},                                                                                                                                                  G1*t_{\\textrm{hop}12}*t_{\\textrm{hop}22}*cos(\\phi)/2 - \\kappa_\\textrm{c2}/2]])"
      ]
     },
     "execution_count": 36,
     "metadata": {},
     "output_type": "execute_result"
    }
   ],
   "source": [
    "jacobian_numerical = jacobian_numerical.subs(g2difftosubs, dumvar2 * s_dG2).doit()\n",
    "jacobian_numerical"
   ]
  },
  {
   "cell_type": "code",
   "execution_count": 37,
   "metadata": {},
   "outputs": [
    {
     "data": {
      "text/latex": [
       "$\\displaystyle \\left[\\begin{matrix}\\frac{G_{2} t_{\\textrm{hop}11} t_{\\textrm{hop}21}}{2} - \\frac{\\kappa_\\textrm{c1}}{2} & \\omega_{1} - \\omega_{\\textrm{d}} & - 2 deriv_{G12(N2, mode idx = 2)} p_{2} \\sqrt{t_{\\textrm{hop}11}} \\sqrt{t_{\\textrm{hop}21}} x_{2} + deriv_{G12(N2, mode idx = 2)} t_{\\textrm{hop}11} t_{\\textrm{hop}21} x_{2} x_{1} & - G_{2} \\sqrt{t_{\\textrm{hop}11}} \\sqrt{t_{\\textrm{hop}21}} - 2 deriv_{G12(N2, mode idx = 2)} p_{2}^{2} \\sqrt{t_{\\textrm{hop}11}} \\sqrt{t_{\\textrm{hop}21}} + deriv_{G12(N2, mode idx = 2)} p_{2} t_{\\textrm{hop}11} t_{\\textrm{hop}21} x_{1}\\\\- \\omega_{1} + \\omega_{\\textrm{d}} & \\frac{G_{2} t_{\\textrm{hop}11} t_{\\textrm{hop}21}}{2} - \\frac{\\kappa_\\textrm{c1}}{2} & G_{2} \\sqrt{t_{\\textrm{hop}11}} \\sqrt{t_{\\textrm{hop}21}} + deriv_{G12(N2, mode idx = 2)} p_{1} t_{\\textrm{hop}11} t_{\\textrm{hop}21} x_{2} + 2 deriv_{G12(N2, mode idx = 2)} \\sqrt{t_{\\textrm{hop}11}} \\sqrt{t_{\\textrm{hop}21}} x_{2}^{2} & deriv_{G12(N2, mode idx = 2)} p_{1} p_{2} t_{\\textrm{hop}11} t_{\\textrm{hop}21} + 2 deriv_{G12(N2, mode idx = 2)} p_{2} \\sqrt{t_{\\textrm{hop}11}} \\sqrt{t_{\\textrm{hop}21}} x_{2}\\\\G_{1} \\sqrt{t_{\\textrm{hop}12}} \\sqrt{t_{\\textrm{hop}22}} \\sin{\\left(\\phi \\right)} + p_{2} t_{\\textrm{hop}12} t_{\\textrm{hop}22} x_{1} \\sin{\\left(\\phi \\right)} \\left. \\frac{d}{d \\xi_{1}} \\operatorname{G_{1}}{\\left(\\xi_{1} \\right)} \\right|_{\\substack{ \\xi_{1}=p_{1}^{2} + x_{1}^{2} }} - 2 \\sqrt{t_{\\textrm{hop}12}} \\sqrt{t_{\\textrm{hop}22}} x_{1} \\left(p_{1} \\cos{\\left(\\phi \\right)} - x_{1} \\sin{\\left(\\phi \\right)}\\right) \\left. \\frac{d}{d \\xi_{1}} \\operatorname{G_{1}}{\\left(\\xi_{1} \\right)} \\right|_{\\substack{ \\xi_{1}=p_{1}^{2} + x_{1}^{2} }} + t_{\\textrm{hop}12} t_{\\textrm{hop}22} x_{2} x_{1} \\cos{\\left(\\phi \\right)} \\left. \\frac{d}{d \\xi_{1}} \\operatorname{G_{1}}{\\left(\\xi_{1} \\right)} \\right|_{\\substack{ \\xi_{1}=p_{1}^{2} + x_{1}^{2} }} & - G_{1} \\sqrt{t_{\\textrm{hop}12}} \\sqrt{t_{\\textrm{hop}22}} \\cos{\\left(\\phi \\right)} + p_{1} p_{2} t_{\\textrm{hop}12} t_{\\textrm{hop}22} \\sin{\\left(\\phi \\right)} \\left. \\frac{d}{d \\xi_{1}} \\operatorname{G_{1}}{\\left(\\xi_{1} \\right)} \\right|_{\\substack{ \\xi_{1}=p_{1}^{2} + x_{1}^{2} }} - 2 p_{1} \\sqrt{t_{\\textrm{hop}12}} \\sqrt{t_{\\textrm{hop}22}} \\left(p_{1} \\cos{\\left(\\phi \\right)} - x_{1} \\sin{\\left(\\phi \\right)}\\right) \\left. \\frac{d}{d \\xi_{1}} \\operatorname{G_{1}}{\\left(\\xi_{1} \\right)} \\right|_{\\substack{ \\xi_{1}=p_{1}^{2} + x_{1}^{2} }} + p_{1} t_{\\textrm{hop}12} t_{\\textrm{hop}22} x_{2} \\cos{\\left(\\phi \\right)} \\left. \\frac{d}{d \\xi_{1}} \\operatorname{G_{1}}{\\left(\\xi_{1} \\right)} \\right|_{\\substack{ \\xi_{1}=p_{1}^{2} + x_{1}^{2} }} & \\frac{G_{1} t_{\\textrm{hop}12} t_{\\textrm{hop}22} \\cos{\\left(\\phi \\right)}}{2} - \\frac{\\kappa_\\textrm{c2}}{2} & \\frac{G_{1} t_{\\textrm{hop}12} t_{\\textrm{hop}22} \\sin{\\left(\\phi \\right)}}{2} + \\omega_{2} - \\omega_{\\textrm{d}}\\\\G_{1} \\sqrt{t_{\\textrm{hop}12}} \\sqrt{t_{\\textrm{hop}22}} \\cos{\\left(\\phi \\right)} + p_{2} t_{\\textrm{hop}12} t_{\\textrm{hop}22} x_{1} \\cos{\\left(\\phi \\right)} \\left. \\frac{d}{d \\xi_{1}} \\operatorname{G_{1}}{\\left(\\xi_{1} \\right)} \\right|_{\\substack{ \\xi_{1}=p_{1}^{2} + x_{1}^{2} }} + 2 \\sqrt{t_{\\textrm{hop}12}} \\sqrt{t_{\\textrm{hop}22}} x_{1} \\left(p_{1} \\sin{\\left(\\phi \\right)} + x_{1} \\cos{\\left(\\phi \\right)}\\right) \\left. \\frac{d}{d \\xi_{1}} \\operatorname{G_{1}}{\\left(\\xi_{1} \\right)} \\right|_{\\substack{ \\xi_{1}=p_{1}^{2} + x_{1}^{2} }} - t_{\\textrm{hop}12} t_{\\textrm{hop}22} x_{2} x_{1} \\sin{\\left(\\phi \\right)} \\left. \\frac{d}{d \\xi_{1}} \\operatorname{G_{1}}{\\left(\\xi_{1} \\right)} \\right|_{\\substack{ \\xi_{1}=p_{1}^{2} + x_{1}^{2} }} & G_{1} \\sqrt{t_{\\textrm{hop}12}} \\sqrt{t_{\\textrm{hop}22}} \\sin{\\left(\\phi \\right)} + p_{1} p_{2} t_{\\textrm{hop}12} t_{\\textrm{hop}22} \\cos{\\left(\\phi \\right)} \\left. \\frac{d}{d \\xi_{1}} \\operatorname{G_{1}}{\\left(\\xi_{1} \\right)} \\right|_{\\substack{ \\xi_{1}=p_{1}^{2} + x_{1}^{2} }} + 2 p_{1} \\sqrt{t_{\\textrm{hop}12}} \\sqrt{t_{\\textrm{hop}22}} \\left(p_{1} \\sin{\\left(\\phi \\right)} + x_{1} \\cos{\\left(\\phi \\right)}\\right) \\left. \\frac{d}{d \\xi_{1}} \\operatorname{G_{1}}{\\left(\\xi_{1} \\right)} \\right|_{\\substack{ \\xi_{1}=p_{1}^{2} + x_{1}^{2} }} - p_{1} t_{\\textrm{hop}12} t_{\\textrm{hop}22} x_{2} \\sin{\\left(\\phi \\right)} \\left. \\frac{d}{d \\xi_{1}} \\operatorname{G_{1}}{\\left(\\xi_{1} \\right)} \\right|_{\\substack{ \\xi_{1}=p_{1}^{2} + x_{1}^{2} }} & - \\frac{G_{1} t_{\\textrm{hop}12} t_{\\textrm{hop}22} \\sin{\\left(\\phi \\right)}}{2} - \\omega_{2} + \\omega_{\\textrm{d}} & \\frac{G_{1} t_{\\textrm{hop}12} t_{\\textrm{hop}22} \\cos{\\left(\\phi \\right)}}{2} - \\frac{\\kappa_\\textrm{c2}}{2}\\end{matrix}\\right]$"
      ],
      "text/plain": [
       "Matrix([\n",
       "[                                                                                                                                                                                                                                                                                                                                                                                                             G2*t_{\\textrm{hop}11}*t_{\\textrm{hop}21}/2 - \\kappa_\\textrm{c1}/2,                                                                                                                                                                                                                                                                                                                                                                                                                                            \\omega_1 - \\omega_{\\textrm{d}},                                                    -2*deriv_G12(N2, mode_idx = 2)*p_2*sqrt(t_{\\textrm{hop}11})*sqrt(t_{\\textrm{hop}21})*x_2 + deriv_G12(N2, mode_idx = 2)*t_{\\textrm{hop}11}*t_{\\textrm{hop}21}*x_2*x_{1}, -G2*sqrt(t_{\\textrm{hop}11})*sqrt(t_{\\textrm{hop}21}) - 2*deriv_G12(N2, mode_idx = 2)*p_2**2*sqrt(t_{\\textrm{hop}11})*sqrt(t_{\\textrm{hop}21}) + deriv_G12(N2, mode_idx = 2)*p_2*t_{\\textrm{hop}11}*t_{\\textrm{hop}21}*x_{1}],\n",
       "[                                                                                                                                                                                                                                                                                                                                                                                                                                               -\\omega_1 + \\omega_{\\textrm{d}},                                                                                                                                                                                                                                                                                                                                                                                                         G2*t_{\\textrm{hop}11}*t_{\\textrm{hop}21}/2 - \\kappa_\\textrm{c1}/2, G2*sqrt(t_{\\textrm{hop}11})*sqrt(t_{\\textrm{hop}21}) + deriv_G12(N2, mode_idx = 2)*p_1*t_{\\textrm{hop}11}*t_{\\textrm{hop}21}*x_2 + 2*deriv_G12(N2, mode_idx = 2)*sqrt(t_{\\textrm{hop}11})*sqrt(t_{\\textrm{hop}21})*x_2**2,                                                          deriv_G12(N2, mode_idx = 2)*p_1*p_2*t_{\\textrm{hop}11}*t_{\\textrm{hop}21} + 2*deriv_G12(N2, mode_idx = 2)*p_2*sqrt(t_{\\textrm{hop}11})*sqrt(t_{\\textrm{hop}21})*x_2],\n",
       "[G1*sqrt(t_{\\textrm{hop}12})*sqrt(t_{\\textrm{hop}22})*sin(\\phi) + p_2*t_{\\textrm{hop}12}*t_{\\textrm{hop}22}*x_{1}*sin(\\phi)*Subs(Derivative(G_1(_xi_1), _xi_1), _xi_1, p_1**2 + x_{1}**2) - 2*sqrt(t_{\\textrm{hop}12})*sqrt(t_{\\textrm{hop}22})*x_{1}*(p_1*cos(\\phi) - x_{1}*sin(\\phi))*Subs(Derivative(G_1(_xi_1), _xi_1), _xi_1, p_1**2 + x_{1}**2) + t_{\\textrm{hop}12}*t_{\\textrm{hop}22}*x_2*x_{1}*cos(\\phi)*Subs(Derivative(G_1(_xi_1), _xi_1), _xi_1, p_1**2 + x_{1}**2), -G1*sqrt(t_{\\textrm{hop}12})*sqrt(t_{\\textrm{hop}22})*cos(\\phi) + p_1*p_2*t_{\\textrm{hop}12}*t_{\\textrm{hop}22}*sin(\\phi)*Subs(Derivative(G_1(_xi_1), _xi_1), _xi_1, p_1**2 + x_{1}**2) - 2*p_1*sqrt(t_{\\textrm{hop}12})*sqrt(t_{\\textrm{hop}22})*(p_1*cos(\\phi) - x_{1}*sin(\\phi))*Subs(Derivative(G_1(_xi_1), _xi_1), _xi_1, p_1**2 + x_{1}**2) + p_1*t_{\\textrm{hop}12}*t_{\\textrm{hop}22}*x_2*cos(\\phi)*Subs(Derivative(G_1(_xi_1), _xi_1), _xi_1, p_1**2 + x_{1}**2),                                                                                                                                               G1*t_{\\textrm{hop}12}*t_{\\textrm{hop}22}*cos(\\phi)/2 - \\kappa_\\textrm{c2}/2,                                                                                                                                        G1*t_{\\textrm{hop}12}*t_{\\textrm{hop}22}*sin(\\phi)/2 + \\omega_2 - \\omega_{\\textrm{d}}],\n",
       "[G1*sqrt(t_{\\textrm{hop}12})*sqrt(t_{\\textrm{hop}22})*cos(\\phi) + p_2*t_{\\textrm{hop}12}*t_{\\textrm{hop}22}*x_{1}*cos(\\phi)*Subs(Derivative(G_1(_xi_1), _xi_1), _xi_1, p_1**2 + x_{1}**2) + 2*sqrt(t_{\\textrm{hop}12})*sqrt(t_{\\textrm{hop}22})*x_{1}*(p_1*sin(\\phi) + x_{1}*cos(\\phi))*Subs(Derivative(G_1(_xi_1), _xi_1), _xi_1, p_1**2 + x_{1}**2) - t_{\\textrm{hop}12}*t_{\\textrm{hop}22}*x_2*x_{1}*sin(\\phi)*Subs(Derivative(G_1(_xi_1), _xi_1), _xi_1, p_1**2 + x_{1}**2),  G1*sqrt(t_{\\textrm{hop}12})*sqrt(t_{\\textrm{hop}22})*sin(\\phi) + p_1*p_2*t_{\\textrm{hop}12}*t_{\\textrm{hop}22}*cos(\\phi)*Subs(Derivative(G_1(_xi_1), _xi_1), _xi_1, p_1**2 + x_{1}**2) + 2*p_1*sqrt(t_{\\textrm{hop}12})*sqrt(t_{\\textrm{hop}22})*(p_1*sin(\\phi) + x_{1}*cos(\\phi))*Subs(Derivative(G_1(_xi_1), _xi_1), _xi_1, p_1**2 + x_{1}**2) - p_1*t_{\\textrm{hop}12}*t_{\\textrm{hop}22}*x_2*sin(\\phi)*Subs(Derivative(G_1(_xi_1), _xi_1), _xi_1, p_1**2 + x_{1}**2),                                                                                                                                    -G1*t_{\\textrm{hop}12}*t_{\\textrm{hop}22}*sin(\\phi)/2 - \\omega_2 + \\omega_{\\textrm{d}},                                                                                                                                                  G1*t_{\\textrm{hop}12}*t_{\\textrm{hop}22}*cos(\\phi)/2 - \\kappa_\\textrm{c2}/2]])"
      ]
     },
     "execution_count": 37,
     "metadata": {},
     "output_type": "execute_result"
    }
   ],
   "source": [
    "jacobian_numerical = jacobian_numerical.subs(g2difftosubs, s_dG2)\n",
    "jacobian_numerical\n"
   ]
  },
  {
   "cell_type": "code",
   "execution_count": 38,
   "metadata": {},
   "outputs": [
    {
     "data": {
      "text/latex": [
       "$\\displaystyle - 2 p_{1} \\sqrt{t_{\\textrm{hop}12}} \\sqrt{t_{\\textrm{hop}22}} x_{1} \\left. \\frac{d}{d \\xi_{1}} \\operatorname{G_{1}}{\\left(\\xi_{1} \\right)} \\right|_{\\substack{ \\xi_{1}=p_{1}^{2} + x_{1}^{2} }} + t_{\\textrm{hop}12} t_{\\textrm{hop}22} x_{2} x_{1} \\left. \\frac{d}{d \\xi_{1}} \\operatorname{G_{1}}{\\left(\\xi_{1} \\right)} \\right|_{\\substack{ \\xi_{1}=p_{1}^{2} + x_{1}^{2} }}$"
      ],
      "text/plain": [
       "-2*p_1*sqrt(t_{\\textrm{hop}12})*sqrt(t_{\\textrm{hop}22})*x_{1}*Subs(Derivative(G_1(_xi_1), _xi_1), _xi_1, p_1**2 + x_{1}**2) + t_{\\textrm{hop}12}*t_{\\textrm{hop}22}*x_2*x_{1}*Subs(Derivative(G_1(_xi_1), _xi_1), _xi_1, p_1**2 + x_{1}**2)"
      ]
     },
     "execution_count": 38,
     "metadata": {},
     "output_type": "execute_result"
    }
   ],
   "source": [
    "tss = jacobian_numerical[2,0].subs(phase,0).doit()\n",
    "tss"
   ]
  },
  {
   "cell_type": "code",
   "execution_count": 39,
   "metadata": {},
   "outputs": [
    {
     "data": {
      "text/latex": [
       "$\\displaystyle \\operatorname{G_{1}}{\\left(\\xi_{1} \\right)}$"
      ],
      "text/plain": [
       "G_1(_xi_1)"
      ]
     },
     "execution_count": 39,
     "metadata": {},
     "output_type": "execute_result"
    },
    {
     "data": {
      "text/latex": [
       "$\\displaystyle \\xi_{1}$"
      ],
      "text/plain": [
       "_xi_1"
      ]
     },
     "execution_count": 39,
     "metadata": {},
     "output_type": "execute_result"
    }
   ],
   "source": [
    "_, g1difftosubs, dumvar1 = substitute_derivative(tss, eta0)\n",
    "g1difftosubs\n",
    "dumvar1"
   ]
  },
  {
   "cell_type": "code",
   "execution_count": 40,
   "metadata": {},
   "outputs": [
    {
     "data": {
      "text/latex": [
       "$\\displaystyle deriv_{G12(N1, mode idx = 1)} p_{2} t_{\\textrm{hop}12} t_{\\textrm{hop}22} x_{1} \\sin{\\left(\\phi \\right)} - 2 deriv_{G12(N1, mode idx = 1)} \\sqrt{t_{\\textrm{hop}12}} \\sqrt{t_{\\textrm{hop}22}} x_{1} \\left(p_{1} \\cos{\\left(\\phi \\right)} - x_{1} \\sin{\\left(\\phi \\right)}\\right) + deriv_{G12(N1, mode idx = 1)} t_{\\textrm{hop}12} t_{\\textrm{hop}22} x_{2} x_{1} \\cos{\\left(\\phi \\right)} + \\sqrt{t_{\\textrm{hop}12}} \\sqrt{t_{\\textrm{hop}22}} \\operatorname{G_{1}}{\\left(p_{1}^{2} + x_{1}^{2} \\right)} \\sin{\\left(\\phi \\right)}$"
      ],
      "text/plain": [
       "deriv_G12(N1, mode_idx = 1)*p_2*t_{\\textrm{hop}12}*t_{\\textrm{hop}22}*x_{1}*sin(\\phi) - 2*deriv_G12(N1, mode_idx = 1)*sqrt(t_{\\textrm{hop}12})*sqrt(t_{\\textrm{hop}22})*x_{1}*(p_1*cos(\\phi) - x_{1}*sin(\\phi)) + deriv_G12(N1, mode_idx = 1)*t_{\\textrm{hop}12}*t_{\\textrm{hop}22}*x_2*x_{1}*cos(\\phi) + sqrt(t_{\\textrm{hop}12})*sqrt(t_{\\textrm{hop}22})*G_1(p_1**2 + x_{1}**2)*sin(\\phi)"
      ]
     },
     "execution_count": 40,
     "metadata": {},
     "output_type": "execute_result"
    },
    {
     "data": {
      "text/latex": [
       "$\\displaystyle G_{1} \\sqrt{t_{\\textrm{hop}12}} \\sqrt{t_{\\textrm{hop}22}} \\sin{\\left(\\phi \\right)} + deriv_{G12(N1, mode idx = 1)} p_{2} t_{\\textrm{hop}12} t_{\\textrm{hop}22} x_{1} \\sin{\\left(\\phi \\right)} - 2 deriv_{G12(N1, mode idx = 1)} \\sqrt{t_{\\textrm{hop}12}} \\sqrt{t_{\\textrm{hop}22}} x_{1} \\left(p_{1} \\cos{\\left(\\phi \\right)} - x_{1} \\sin{\\left(\\phi \\right)}\\right) + deriv_{G12(N1, mode idx = 1)} t_{\\textrm{hop}12} t_{\\textrm{hop}22} x_{2} x_{1} \\cos{\\left(\\phi \\right)}$"
      ],
      "text/plain": [
       "G1*sqrt(t_{\\textrm{hop}12})*sqrt(t_{\\textrm{hop}22})*sin(\\phi) + deriv_G12(N1, mode_idx = 1)*p_2*t_{\\textrm{hop}12}*t_{\\textrm{hop}22}*x_{1}*sin(\\phi) - 2*deriv_G12(N1, mode_idx = 1)*sqrt(t_{\\textrm{hop}12})*sqrt(t_{\\textrm{hop}22})*x_{1}*(p_1*cos(\\phi) - x_{1}*sin(\\phi)) + deriv_G12(N1, mode_idx = 1)*t_{\\textrm{hop}12}*t_{\\textrm{hop}22}*x_2*x_{1}*cos(\\phi)"
      ]
     },
     "execution_count": 40,
     "metadata": {},
     "output_type": "execute_result"
    }
   ],
   "source": [
    "# check\n",
    "jacobian[2,0].subs(g1difftosubs, dumvar1 * s_dG1).doit()\n",
    "jacobian_numerical.subs(g1difftosubs, dumvar1 * s_dG1).doit()[2,0]"
   ]
  },
  {
   "cell_type": "code",
   "execution_count": 41,
   "metadata": {},
   "outputs": [
    {
     "data": {
      "text/latex": [
       "$\\displaystyle \\left[\\begin{matrix}\\frac{G_{2} t_{\\textrm{hop}11} t_{\\textrm{hop}21}}{2} - \\frac{\\kappa_\\textrm{c1}}{2} & \\omega_{1} - \\omega_{\\textrm{d}} & - 2 deriv_{G12(N2, mode idx = 2)} p_{2} \\sqrt{t_{\\textrm{hop}11}} \\sqrt{t_{\\textrm{hop}21}} x_{2} + deriv_{G12(N2, mode idx = 2)} t_{\\textrm{hop}11} t_{\\textrm{hop}21} x_{2} x_{1} & - G_{2} \\sqrt{t_{\\textrm{hop}11}} \\sqrt{t_{\\textrm{hop}21}} - 2 deriv_{G12(N2, mode idx = 2)} p_{2}^{2} \\sqrt{t_{\\textrm{hop}11}} \\sqrt{t_{\\textrm{hop}21}} + deriv_{G12(N2, mode idx = 2)} p_{2} t_{\\textrm{hop}11} t_{\\textrm{hop}21} x_{1}\\\\- \\omega_{1} + \\omega_{\\textrm{d}} & \\frac{G_{2} t_{\\textrm{hop}11} t_{\\textrm{hop}21}}{2} - \\frac{\\kappa_\\textrm{c1}}{2} & G_{2} \\sqrt{t_{\\textrm{hop}11}} \\sqrt{t_{\\textrm{hop}21}} + deriv_{G12(N2, mode idx = 2)} p_{1} t_{\\textrm{hop}11} t_{\\textrm{hop}21} x_{2} + 2 deriv_{G12(N2, mode idx = 2)} \\sqrt{t_{\\textrm{hop}11}} \\sqrt{t_{\\textrm{hop}21}} x_{2}^{2} & deriv_{G12(N2, mode idx = 2)} p_{1} p_{2} t_{\\textrm{hop}11} t_{\\textrm{hop}21} + 2 deriv_{G12(N2, mode idx = 2)} p_{2} \\sqrt{t_{\\textrm{hop}11}} \\sqrt{t_{\\textrm{hop}21}} x_{2}\\\\G_{1} \\sqrt{t_{\\textrm{hop}12}} \\sqrt{t_{\\textrm{hop}22}} \\sin{\\left(\\phi \\right)} + deriv_{G12(N1, mode idx = 1)} p_{2} t_{\\textrm{hop}12} t_{\\textrm{hop}22} x_{1} \\sin{\\left(\\phi \\right)} - 2 deriv_{G12(N1, mode idx = 1)} \\sqrt{t_{\\textrm{hop}12}} \\sqrt{t_{\\textrm{hop}22}} x_{1} \\left(p_{1} \\cos{\\left(\\phi \\right)} - x_{1} \\sin{\\left(\\phi \\right)}\\right) + deriv_{G12(N1, mode idx = 1)} t_{\\textrm{hop}12} t_{\\textrm{hop}22} x_{2} x_{1} \\cos{\\left(\\phi \\right)} & - G_{1} \\sqrt{t_{\\textrm{hop}12}} \\sqrt{t_{\\textrm{hop}22}} \\cos{\\left(\\phi \\right)} + deriv_{G12(N1, mode idx = 1)} p_{1} p_{2} t_{\\textrm{hop}12} t_{\\textrm{hop}22} \\sin{\\left(\\phi \\right)} - 2 deriv_{G12(N1, mode idx = 1)} p_{1} \\sqrt{t_{\\textrm{hop}12}} \\sqrt{t_{\\textrm{hop}22}} \\left(p_{1} \\cos{\\left(\\phi \\right)} - x_{1} \\sin{\\left(\\phi \\right)}\\right) + deriv_{G12(N1, mode idx = 1)} p_{1} t_{\\textrm{hop}12} t_{\\textrm{hop}22} x_{2} \\cos{\\left(\\phi \\right)} & \\frac{G_{1} t_{\\textrm{hop}12} t_{\\textrm{hop}22} \\cos{\\left(\\phi \\right)}}{2} - \\frac{\\kappa_\\textrm{c2}}{2} & \\frac{G_{1} t_{\\textrm{hop}12} t_{\\textrm{hop}22} \\sin{\\left(\\phi \\right)}}{2} + \\omega_{2} - \\omega_{\\textrm{d}}\\\\G_{1} \\sqrt{t_{\\textrm{hop}12}} \\sqrt{t_{\\textrm{hop}22}} \\cos{\\left(\\phi \\right)} + deriv_{G12(N1, mode idx = 1)} p_{2} t_{\\textrm{hop}12} t_{\\textrm{hop}22} x_{1} \\cos{\\left(\\phi \\right)} + 2 deriv_{G12(N1, mode idx = 1)} \\sqrt{t_{\\textrm{hop}12}} \\sqrt{t_{\\textrm{hop}22}} x_{1} \\left(p_{1} \\sin{\\left(\\phi \\right)} + x_{1} \\cos{\\left(\\phi \\right)}\\right) - deriv_{G12(N1, mode idx = 1)} t_{\\textrm{hop}12} t_{\\textrm{hop}22} x_{2} x_{1} \\sin{\\left(\\phi \\right)} & G_{1} \\sqrt{t_{\\textrm{hop}12}} \\sqrt{t_{\\textrm{hop}22}} \\sin{\\left(\\phi \\right)} + deriv_{G12(N1, mode idx = 1)} p_{1} p_{2} t_{\\textrm{hop}12} t_{\\textrm{hop}22} \\cos{\\left(\\phi \\right)} + 2 deriv_{G12(N1, mode idx = 1)} p_{1} \\sqrt{t_{\\textrm{hop}12}} \\sqrt{t_{\\textrm{hop}22}} \\left(p_{1} \\sin{\\left(\\phi \\right)} + x_{1} \\cos{\\left(\\phi \\right)}\\right) - deriv_{G12(N1, mode idx = 1)} p_{1} t_{\\textrm{hop}12} t_{\\textrm{hop}22} x_{2} \\sin{\\left(\\phi \\right)} & - \\frac{G_{1} t_{\\textrm{hop}12} t_{\\textrm{hop}22} \\sin{\\left(\\phi \\right)}}{2} - \\omega_{2} + \\omega_{\\textrm{d}} & \\frac{G_{1} t_{\\textrm{hop}12} t_{\\textrm{hop}22} \\cos{\\left(\\phi \\right)}}{2} - \\frac{\\kappa_\\textrm{c2}}{2}\\end{matrix}\\right]$"
      ],
      "text/plain": [
       "Matrix([\n",
       "[                                                                                                                                                                                                                                                                                                       G2*t_{\\textrm{hop}11}*t_{\\textrm{hop}21}/2 - \\kappa_\\textrm{c1}/2,                                                                                                                                                                                                                                                                                                                                      \\omega_1 - \\omega_{\\textrm{d}},                                                    -2*deriv_G12(N2, mode_idx = 2)*p_2*sqrt(t_{\\textrm{hop}11})*sqrt(t_{\\textrm{hop}21})*x_2 + deriv_G12(N2, mode_idx = 2)*t_{\\textrm{hop}11}*t_{\\textrm{hop}21}*x_2*x_{1}, -G2*sqrt(t_{\\textrm{hop}11})*sqrt(t_{\\textrm{hop}21}) - 2*deriv_G12(N2, mode_idx = 2)*p_2**2*sqrt(t_{\\textrm{hop}11})*sqrt(t_{\\textrm{hop}21}) + deriv_G12(N2, mode_idx = 2)*p_2*t_{\\textrm{hop}11}*t_{\\textrm{hop}21}*x_{1}],\n",
       "[                                                                                                                                                                                                                                                                                                                                         -\\omega_1 + \\omega_{\\textrm{d}},                                                                                                                                                                                                                                                                                                   G2*t_{\\textrm{hop}11}*t_{\\textrm{hop}21}/2 - \\kappa_\\textrm{c1}/2, G2*sqrt(t_{\\textrm{hop}11})*sqrt(t_{\\textrm{hop}21}) + deriv_G12(N2, mode_idx = 2)*p_1*t_{\\textrm{hop}11}*t_{\\textrm{hop}21}*x_2 + 2*deriv_G12(N2, mode_idx = 2)*sqrt(t_{\\textrm{hop}11})*sqrt(t_{\\textrm{hop}21})*x_2**2,                                                          deriv_G12(N2, mode_idx = 2)*p_1*p_2*t_{\\textrm{hop}11}*t_{\\textrm{hop}21} + 2*deriv_G12(N2, mode_idx = 2)*p_2*sqrt(t_{\\textrm{hop}11})*sqrt(t_{\\textrm{hop}21})*x_2],\n",
       "[G1*sqrt(t_{\\textrm{hop}12})*sqrt(t_{\\textrm{hop}22})*sin(\\phi) + deriv_G12(N1, mode_idx = 1)*p_2*t_{\\textrm{hop}12}*t_{\\textrm{hop}22}*x_{1}*sin(\\phi) - 2*deriv_G12(N1, mode_idx = 1)*sqrt(t_{\\textrm{hop}12})*sqrt(t_{\\textrm{hop}22})*x_{1}*(p_1*cos(\\phi) - x_{1}*sin(\\phi)) + deriv_G12(N1, mode_idx = 1)*t_{\\textrm{hop}12}*t_{\\textrm{hop}22}*x_2*x_{1}*cos(\\phi), -G1*sqrt(t_{\\textrm{hop}12})*sqrt(t_{\\textrm{hop}22})*cos(\\phi) + deriv_G12(N1, mode_idx = 1)*p_1*p_2*t_{\\textrm{hop}12}*t_{\\textrm{hop}22}*sin(\\phi) - 2*deriv_G12(N1, mode_idx = 1)*p_1*sqrt(t_{\\textrm{hop}12})*sqrt(t_{\\textrm{hop}22})*(p_1*cos(\\phi) - x_{1}*sin(\\phi)) + deriv_G12(N1, mode_idx = 1)*p_1*t_{\\textrm{hop}12}*t_{\\textrm{hop}22}*x_2*cos(\\phi),                                                                                                                                               G1*t_{\\textrm{hop}12}*t_{\\textrm{hop}22}*cos(\\phi)/2 - \\kappa_\\textrm{c2}/2,                                                                                                                                        G1*t_{\\textrm{hop}12}*t_{\\textrm{hop}22}*sin(\\phi)/2 + \\omega_2 - \\omega_{\\textrm{d}}],\n",
       "[G1*sqrt(t_{\\textrm{hop}12})*sqrt(t_{\\textrm{hop}22})*cos(\\phi) + deriv_G12(N1, mode_idx = 1)*p_2*t_{\\textrm{hop}12}*t_{\\textrm{hop}22}*x_{1}*cos(\\phi) + 2*deriv_G12(N1, mode_idx = 1)*sqrt(t_{\\textrm{hop}12})*sqrt(t_{\\textrm{hop}22})*x_{1}*(p_1*sin(\\phi) + x_{1}*cos(\\phi)) - deriv_G12(N1, mode_idx = 1)*t_{\\textrm{hop}12}*t_{\\textrm{hop}22}*x_2*x_{1}*sin(\\phi),  G1*sqrt(t_{\\textrm{hop}12})*sqrt(t_{\\textrm{hop}22})*sin(\\phi) + deriv_G12(N1, mode_idx = 1)*p_1*p_2*t_{\\textrm{hop}12}*t_{\\textrm{hop}22}*cos(\\phi) + 2*deriv_G12(N1, mode_idx = 1)*p_1*sqrt(t_{\\textrm{hop}12})*sqrt(t_{\\textrm{hop}22})*(p_1*sin(\\phi) + x_{1}*cos(\\phi)) - deriv_G12(N1, mode_idx = 1)*p_1*t_{\\textrm{hop}12}*t_{\\textrm{hop}22}*x_2*sin(\\phi),                                                                                                                                    -G1*t_{\\textrm{hop}12}*t_{\\textrm{hop}22}*sin(\\phi)/2 - \\omega_2 + \\omega_{\\textrm{d}},                                                                                                                                                  G1*t_{\\textrm{hop}12}*t_{\\textrm{hop}22}*cos(\\phi)/2 - \\kappa_\\textrm{c2}/2]])"
      ]
     },
     "execution_count": 41,
     "metadata": {},
     "output_type": "execute_result"
    }
   ],
   "source": [
    "jacobian_numerical = jacobian_numerical.subs(g1difftosubs, dumvar1 * s_dG1).doit()\n",
    "jacobian_numerical"
   ]
  },
  {
   "cell_type": "markdown",
   "metadata": {},
   "source": [
    "## Copy past numerical code for Jacobian"
   ]
  },
  {
   "cell_type": "code",
   "execution_count": 42,
   "metadata": {},
   "outputs": [],
   "source": [
    "jacobian_str_variables = jacobian.subs(string_subst_dict)\n",
    "# srepr(_) # doet niet het juiste..."
   ]
  },
  {
   "cell_type": "code",
   "execution_count": 43,
   "metadata": {},
   "outputs": [
    {
     "name": "stdout",
     "output_type": "stream",
     "text": [
      "representation of the jacobian entry 0, 0 to be copy-pasted\n"
     ]
    },
    {
     "data": {
      "text/plain": [
       "'G2*t_hop_1_1*t_hop_2_1/2 - kappa_cavity1/2'"
      ]
     },
     "execution_count": 43,
     "metadata": {},
     "output_type": "execute_result"
    },
    {
     "name": "stdout",
     "output_type": "stream",
     "text": [
      "representation of the jacobian entry 0, 1 to be copy-pasted\n"
     ]
    },
    {
     "data": {
      "text/plain": [
       "'omega1 - omega_d'"
      ]
     },
     "execution_count": 43,
     "metadata": {},
     "output_type": "execute_result"
    },
    {
     "name": "stdout",
     "output_type": "stream",
     "text": [
      "representation of the jacobian entry 0, 2 to be copy-pasted\n"
     ]
    },
    {
     "data": {
      "text/plain": [
       "'alpha1*alpha2*deriv_G12(N2, mode_idx = 2)*t_hop_1_1*t_hop_2_1 - 2*alpha2*alpha2_i*deriv_G12(N2, mode_idx = 2)*sqrt(t_hop_1_1)*sqrt(t_hop_2_1)'"
      ]
     },
     "execution_count": 43,
     "metadata": {},
     "output_type": "execute_result"
    },
    {
     "name": "stdout",
     "output_type": "stream",
     "text": [
      "representation of the jacobian entry 0, 3 to be copy-pasted\n"
     ]
    },
    {
     "data": {
      "text/plain": [
       "'-G2*sqrt(t_hop_1_1)*sqrt(t_hop_2_1) + alpha1*alpha2_i*deriv_G12(N2, mode_idx = 2)*t_hop_1_1*t_hop_2_1 - 2*alpha2_i**2*deriv_G12(N2, mode_idx = 2)*sqrt(t_hop_1_1)*sqrt(t_hop_2_1)'"
      ]
     },
     "execution_count": 43,
     "metadata": {},
     "output_type": "execute_result"
    },
    {
     "name": "stdout",
     "output_type": "stream",
     "text": [
      "representation of the jacobian entry 1, 0 to be copy-pasted\n"
     ]
    },
    {
     "data": {
      "text/plain": [
       "'-omega1 + omega_d'"
      ]
     },
     "execution_count": 43,
     "metadata": {},
     "output_type": "execute_result"
    },
    {
     "name": "stdout",
     "output_type": "stream",
     "text": [
      "representation of the jacobian entry 1, 1 to be copy-pasted\n"
     ]
    },
    {
     "data": {
      "text/plain": [
       "'G2*t_hop_1_1*t_hop_2_1/2 - kappa_cavity1/2'"
      ]
     },
     "execution_count": 43,
     "metadata": {},
     "output_type": "execute_result"
    },
    {
     "name": "stdout",
     "output_type": "stream",
     "text": [
      "representation of the jacobian entry 1, 2 to be copy-pasted\n"
     ]
    },
    {
     "data": {
      "text/plain": [
       "'G2*sqrt(t_hop_1_1)*sqrt(t_hop_2_1) + alpha1_i*alpha2*deriv_G12(N2, mode_idx = 2)*t_hop_1_1*t_hop_2_1 + 2*alpha2**2*deriv_G12(N2, mode_idx = 2)*sqrt(t_hop_1_1)*sqrt(t_hop_2_1)'"
      ]
     },
     "execution_count": 43,
     "metadata": {},
     "output_type": "execute_result"
    },
    {
     "name": "stdout",
     "output_type": "stream",
     "text": [
      "representation of the jacobian entry 1, 3 to be copy-pasted\n"
     ]
    },
    {
     "data": {
      "text/plain": [
       "'alpha1_i*alpha2_i*deriv_G12(N2, mode_idx = 2)*t_hop_1_1*t_hop_2_1 + 2*alpha2*alpha2_i*deriv_G12(N2, mode_idx = 2)*sqrt(t_hop_1_1)*sqrt(t_hop_2_1)'"
      ]
     },
     "execution_count": 43,
     "metadata": {},
     "output_type": "execute_result"
    },
    {
     "name": "stdout",
     "output_type": "stream",
     "text": [
      "representation of the jacobian entry 2, 0 to be copy-pasted\n"
     ]
    },
    {
     "data": {
      "text/plain": [
       "'G1*sqrt(t_hop_1_2)*sqrt(t_hop_2_2)*sin(phase) + alpha1*alpha2*deriv_G12(N1, mode_idx = 1)*t_hop_1_2*t_hop_2_2*cos(phase) + alpha1*alpha2_i*deriv_G12(N1, mode_idx = 1)*t_hop_1_2*t_hop_2_2*sin(phase) - 2*alpha1*deriv_G12(N1, mode_idx = 1)*sqrt(t_hop_1_2)*sqrt(t_hop_2_2)*(-alpha1*sin(phase) + alpha1_i*cos(phase))'"
      ]
     },
     "execution_count": 43,
     "metadata": {},
     "output_type": "execute_result"
    },
    {
     "name": "stdout",
     "output_type": "stream",
     "text": [
      "representation of the jacobian entry 2, 1 to be copy-pasted\n"
     ]
    },
    {
     "data": {
      "text/plain": [
       "'-G1*sqrt(t_hop_1_2)*sqrt(t_hop_2_2)*cos(phase) + alpha1_i*alpha2*deriv_G12(N1, mode_idx = 1)*t_hop_1_2*t_hop_2_2*cos(phase) + alpha1_i*alpha2_i*deriv_G12(N1, mode_idx = 1)*t_hop_1_2*t_hop_2_2*sin(phase) - 2*alpha1_i*deriv_G12(N1, mode_idx = 1)*sqrt(t_hop_1_2)*sqrt(t_hop_2_2)*(-alpha1*sin(phase) + alpha1_i*cos(phase))'"
      ]
     },
     "execution_count": 43,
     "metadata": {},
     "output_type": "execute_result"
    },
    {
     "name": "stdout",
     "output_type": "stream",
     "text": [
      "representation of the jacobian entry 2, 2 to be copy-pasted\n"
     ]
    },
    {
     "data": {
      "text/plain": [
       "'G1*t_hop_1_2*t_hop_2_2*cos(phase)/2 - kappa_cavity2/2'"
      ]
     },
     "execution_count": 43,
     "metadata": {},
     "output_type": "execute_result"
    },
    {
     "name": "stdout",
     "output_type": "stream",
     "text": [
      "representation of the jacobian entry 2, 3 to be copy-pasted\n"
     ]
    },
    {
     "data": {
      "text/plain": [
       "'G1*t_hop_1_2*t_hop_2_2*sin(phase)/2 + omega2 - omega_d'"
      ]
     },
     "execution_count": 43,
     "metadata": {},
     "output_type": "execute_result"
    },
    {
     "name": "stdout",
     "output_type": "stream",
     "text": [
      "representation of the jacobian entry 3, 0 to be copy-pasted\n"
     ]
    },
    {
     "data": {
      "text/plain": [
       "'G1*sqrt(t_hop_1_2)*sqrt(t_hop_2_2)*cos(phase) - alpha1*alpha2*deriv_G12(N1, mode_idx = 1)*t_hop_1_2*t_hop_2_2*sin(phase) + alpha1*alpha2_i*deriv_G12(N1, mode_idx = 1)*t_hop_1_2*t_hop_2_2*cos(phase) + 2*alpha1*deriv_G12(N1, mode_idx = 1)*sqrt(t_hop_1_2)*sqrt(t_hop_2_2)*(alpha1*cos(phase) + alpha1_i*sin(phase))'"
      ]
     },
     "execution_count": 43,
     "metadata": {},
     "output_type": "execute_result"
    },
    {
     "name": "stdout",
     "output_type": "stream",
     "text": [
      "representation of the jacobian entry 3, 1 to be copy-pasted\n"
     ]
    },
    {
     "data": {
      "text/plain": [
       "'G1*sqrt(t_hop_1_2)*sqrt(t_hop_2_2)*sin(phase) - alpha1_i*alpha2*deriv_G12(N1, mode_idx = 1)*t_hop_1_2*t_hop_2_2*sin(phase) + alpha1_i*alpha2_i*deriv_G12(N1, mode_idx = 1)*t_hop_1_2*t_hop_2_2*cos(phase) + 2*alpha1_i*deriv_G12(N1, mode_idx = 1)*sqrt(t_hop_1_2)*sqrt(t_hop_2_2)*(alpha1*cos(phase) + alpha1_i*sin(phase))'"
      ]
     },
     "execution_count": 43,
     "metadata": {},
     "output_type": "execute_result"
    },
    {
     "name": "stdout",
     "output_type": "stream",
     "text": [
      "representation of the jacobian entry 3, 2 to be copy-pasted\n"
     ]
    },
    {
     "data": {
      "text/plain": [
       "'-G1*t_hop_1_2*t_hop_2_2*sin(phase)/2 - omega2 + omega_d'"
      ]
     },
     "execution_count": 43,
     "metadata": {},
     "output_type": "execute_result"
    },
    {
     "name": "stdout",
     "output_type": "stream",
     "text": [
      "representation of the jacobian entry 3, 3 to be copy-pasted\n"
     ]
    },
    {
     "data": {
      "text/plain": [
       "'G1*t_hop_1_2*t_hop_2_2*cos(phase)/2 - kappa_cavity2/2'"
      ]
     },
     "execution_count": 43,
     "metadata": {},
     "output_type": "execute_result"
    }
   ],
   "source": [
    "# Now we can generate the code from this expression.\n",
    "for row_idx in range(jacobian.shape[0]):\n",
    "    for col_idx in range(jacobian.shape[1]):\n",
    "        print(\"representation of the jacobian entry \"+str(row_idx)+\", \"+str(col_idx)+\" to be copy-pasted\")\n",
    "        expr_to_parsable(jacobian_numerical[row_idx,col_idx], string_subst_dict)"
   ]
  },
  {
   "cell_type": "code",
   "execution_count": 44,
   "metadata": {},
   "outputs": [
    {
     "data": {
      "text/plain": [
       "3"
      ]
     },
     "execution_count": 44,
     "metadata": {},
     "output_type": "execute_result"
    }
   ],
   "source": [
    "np.array([[1,2], [3,4]])[1,0]"
   ]
  },
  {
   "cell_type": "markdown",
   "metadata": {},
   "source": [
    "# Further sanity check\n",
    "\n",
    "The jacobian evaluated at the origin must give the linear version of the system, of course!"
   ]
  },
  {
   "cell_type": "code",
   "execution_count": 45,
   "metadata": {},
   "outputs": [
    {
     "data": {
      "text/latex": [
       "$\\displaystyle \\left[\\begin{matrix}- \\frac{\\kappa_\\textrm{c1}}{2} + \\frac{t_{\\textrm{hop}11} t_{\\textrm{hop}21} \\operatorname{G_{2}}{\\left(0 \\right)}}{2} & \\omega_{1} - \\omega_{\\textrm{d}} & 0 & - \\sqrt{t_{\\textrm{hop}11}} \\sqrt{t_{\\textrm{hop}21}} \\operatorname{G_{2}}{\\left(0 \\right)}\\\\- \\omega_{1} + \\omega_{\\textrm{d}} & - \\frac{\\kappa_\\textrm{c1}}{2} + \\frac{t_{\\textrm{hop}11} t_{\\textrm{hop}21} \\operatorname{G_{2}}{\\left(0 \\right)}}{2} & \\sqrt{t_{\\textrm{hop}11}} \\sqrt{t_{\\textrm{hop}21}} \\operatorname{G_{2}}{\\left(0 \\right)} & 0\\\\\\sqrt{t_{\\textrm{hop}12}} \\sqrt{t_{\\textrm{hop}22}} \\operatorname{G_{1}}{\\left(0 \\right)} \\sin{\\left(\\phi \\right)} & - \\sqrt{t_{\\textrm{hop}12}} \\sqrt{t_{\\textrm{hop}22}} \\operatorname{G_{1}}{\\left(0 \\right)} \\cos{\\left(\\phi \\right)} & - \\frac{\\kappa_\\textrm{c2}}{2} + \\frac{t_{\\textrm{hop}12} t_{\\textrm{hop}22} \\operatorname{G_{1}}{\\left(0 \\right)} \\cos{\\left(\\phi \\right)}}{2} & \\omega_{2} - \\omega_{\\textrm{d}} + \\frac{t_{\\textrm{hop}12} t_{\\textrm{hop}22} \\operatorname{G_{1}}{\\left(0 \\right)} \\sin{\\left(\\phi \\right)}}{2}\\\\\\sqrt{t_{\\textrm{hop}12}} \\sqrt{t_{\\textrm{hop}22}} \\operatorname{G_{1}}{\\left(0 \\right)} \\cos{\\left(\\phi \\right)} & \\sqrt{t_{\\textrm{hop}12}} \\sqrt{t_{\\textrm{hop}22}} \\operatorname{G_{1}}{\\left(0 \\right)} \\sin{\\left(\\phi \\right)} & - \\omega_{2} + \\omega_{\\textrm{d}} - \\frac{t_{\\textrm{hop}12} t_{\\textrm{hop}22} \\operatorname{G_{1}}{\\left(0 \\right)} \\sin{\\left(\\phi \\right)}}{2} & - \\frac{\\kappa_\\textrm{c2}}{2} + \\frac{t_{\\textrm{hop}12} t_{\\textrm{hop}22} \\operatorname{G_{1}}{\\left(0 \\right)} \\cos{\\left(\\phi \\right)}}{2}\\end{matrix}\\right]$"
      ],
      "text/plain": [
       "Matrix([\n",
       "[-\\kappa_\\textrm{c1}/2 + t_{\\textrm{hop}11}*t_{\\textrm{hop}21}*G_2(0)/2,                                         \\omega_1 - \\omega_{\\textrm{d}},                                                                                          0,                                 -sqrt(t_{\\textrm{hop}11})*sqrt(t_{\\textrm{hop}21})*G_2(0)],\n",
       "[                                       -\\omega_1 + \\omega_{\\textrm{d}}, -\\kappa_\\textrm{c1}/2 + t_{\\textrm{hop}11}*t_{\\textrm{hop}21}*G_2(0)/2,                                   sqrt(t_{\\textrm{hop}11})*sqrt(t_{\\textrm{hop}21})*G_2(0),                                                                                         0],\n",
       "[    sqrt(t_{\\textrm{hop}12})*sqrt(t_{\\textrm{hop}22})*G_1(0)*sin(\\phi),    -sqrt(t_{\\textrm{hop}12})*sqrt(t_{\\textrm{hop}22})*G_1(0)*cos(\\phi),           -\\kappa_\\textrm{c2}/2 + t_{\\textrm{hop}12}*t_{\\textrm{hop}22}*G_1(0)*cos(\\phi)/2, \\omega_2 - \\omega_{\\textrm{d}} + t_{\\textrm{hop}12}*t_{\\textrm{hop}22}*G_1(0)*sin(\\phi)/2],\n",
       "[    sqrt(t_{\\textrm{hop}12})*sqrt(t_{\\textrm{hop}22})*G_1(0)*cos(\\phi),     sqrt(t_{\\textrm{hop}12})*sqrt(t_{\\textrm{hop}22})*G_1(0)*sin(\\phi), -\\omega_2 + \\omega_{\\textrm{d}} - t_{\\textrm{hop}12}*t_{\\textrm{hop}22}*G_1(0)*sin(\\phi)/2,          -\\kappa_\\textrm{c2}/2 + t_{\\textrm{hop}12}*t_{\\textrm{hop}22}*G_1(0)*cos(\\phi)/2]])"
      ]
     },
     "execution_count": 45,
     "metadata": {},
     "output_type": "execute_result"
    }
   ],
   "source": [
    "vacuum_jacobian = jacobian.subs(x1,0).subs(p1,0).subs(x2,0).subs(p2,0)\n",
    "vacuum_jacobian"
   ]
  },
  {
   "cell_type": "code",
   "execution_count": 46,
   "metadata": {},
   "outputs": [
    {
     "data": {
      "text/latex": [
       "$\\displaystyle \\operatorname{G_{1}}{\\left(0 \\right)}$"
      ],
      "text/plain": [
       "G_1(0)"
      ]
     },
     "execution_count": 46,
     "metadata": {},
     "output_type": "execute_result"
    }
   ],
   "source": [
    "g1tosubs = vacuum_jacobian[2,0].atoms(Function).pop()\n",
    "g1tosubs"
   ]
  },
  {
   "cell_type": "code",
   "execution_count": 47,
   "metadata": {},
   "outputs": [
    {
     "data": {
      "text/latex": [
       "$\\displaystyle \\operatorname{G_{2}}{\\left(0 \\right)}$"
      ],
      "text/plain": [
       "G_2(0)"
      ]
     },
     "execution_count": 47,
     "metadata": {},
     "output_type": "execute_result"
    }
   ],
   "source": [
    "g2tosubs = vacuum_jacobian[1,1].atoms(Function).pop()\n",
    "g2tosubs"
   ]
  },
  {
   "cell_type": "code",
   "execution_count": 48,
   "metadata": {},
   "outputs": [
    {
     "data": {
      "text/latex": [
       "$\\displaystyle \\left[\\begin{matrix}\\frac{\\eta_{0} t_{\\textrm{hop}11} t_{\\textrm{hop}21}}{2} - \\frac{\\kappa_\\textrm{c1}}{2} & \\omega_{1} - \\omega_{\\textrm{d}} & 0 & - \\eta_{0} \\sqrt{t_{\\textrm{hop}11}} \\sqrt{t_{\\textrm{hop}21}}\\\\- \\omega_{1} + \\omega_{\\textrm{d}} & \\frac{\\eta_{0} t_{\\textrm{hop}11} t_{\\textrm{hop}21}}{2} - \\frac{\\kappa_\\textrm{c1}}{2} & \\eta_{0} \\sqrt{t_{\\textrm{hop}11}} \\sqrt{t_{\\textrm{hop}21}} & 0\\\\\\eta_{0} \\sqrt{t_{\\textrm{hop}12}} \\sqrt{t_{\\textrm{hop}22}} \\sin{\\left(\\phi \\right)} & - \\eta_{0} \\sqrt{t_{\\textrm{hop}12}} \\sqrt{t_{\\textrm{hop}22}} \\cos{\\left(\\phi \\right)} & \\frac{\\eta_{0} t_{\\textrm{hop}12} t_{\\textrm{hop}22} \\cos{\\left(\\phi \\right)}}{2} - \\frac{\\kappa_\\textrm{c2}}{2} & \\frac{\\eta_{0} t_{\\textrm{hop}12} t_{\\textrm{hop}22} \\sin{\\left(\\phi \\right)}}{2} + \\omega_{2} - \\omega_{\\textrm{d}}\\\\\\eta_{0} \\sqrt{t_{\\textrm{hop}12}} \\sqrt{t_{\\textrm{hop}22}} \\cos{\\left(\\phi \\right)} & \\eta_{0} \\sqrt{t_{\\textrm{hop}12}} \\sqrt{t_{\\textrm{hop}22}} \\sin{\\left(\\phi \\right)} & - \\frac{\\eta_{0} t_{\\textrm{hop}12} t_{\\textrm{hop}22} \\sin{\\left(\\phi \\right)}}{2} - \\omega_{2} + \\omega_{\\textrm{d}} & \\frac{\\eta_{0} t_{\\textrm{hop}12} t_{\\textrm{hop}22} \\cos{\\left(\\phi \\right)}}{2} - \\frac{\\kappa_\\textrm{c2}}{2}\\end{matrix}\\right]$"
      ],
      "text/plain": [
       "Matrix([\n",
       "[\\eta_{0}*t_{\\textrm{hop}11}*t_{\\textrm{hop}21}/2 - \\kappa_\\textrm{c1}/2,                                          \\omega_1 - \\omega_{\\textrm{d}},                                                                                            0,                                 -\\eta_{0}*sqrt(t_{\\textrm{hop}11})*sqrt(t_{\\textrm{hop}21})],\n",
       "[                                        -\\omega_1 + \\omega_{\\textrm{d}}, \\eta_{0}*t_{\\textrm{hop}11}*t_{\\textrm{hop}21}/2 - \\kappa_\\textrm{c1}/2,                                   \\eta_{0}*sqrt(t_{\\textrm{hop}11})*sqrt(t_{\\textrm{hop}21}),                                                                                           0],\n",
       "[   \\eta_{0}*sqrt(t_{\\textrm{hop}12})*sqrt(t_{\\textrm{hop}22})*sin(\\phi),   -\\eta_{0}*sqrt(t_{\\textrm{hop}12})*sqrt(t_{\\textrm{hop}22})*cos(\\phi),            \\eta_{0}*t_{\\textrm{hop}12}*t_{\\textrm{hop}22}*cos(\\phi)/2 - \\kappa_\\textrm{c2}/2, \\eta_{0}*t_{\\textrm{hop}12}*t_{\\textrm{hop}22}*sin(\\phi)/2 + \\omega_2 - \\omega_{\\textrm{d}}],\n",
       "[   \\eta_{0}*sqrt(t_{\\textrm{hop}12})*sqrt(t_{\\textrm{hop}22})*cos(\\phi),    \\eta_{0}*sqrt(t_{\\textrm{hop}12})*sqrt(t_{\\textrm{hop}22})*sin(\\phi), -\\eta_{0}*t_{\\textrm{hop}12}*t_{\\textrm{hop}22}*sin(\\phi)/2 - \\omega_2 + \\omega_{\\textrm{d}},           \\eta_{0}*t_{\\textrm{hop}12}*t_{\\textrm{hop}22}*cos(\\phi)/2 - \\kappa_\\textrm{c2}/2]])"
      ]
     },
     "execution_count": 48,
     "metadata": {},
     "output_type": "execute_result"
    }
   ],
   "source": [
    "vacuum_jacobian = vacuum_jacobian.subs(g1tosubs, eta0).subs(g2tosubs, eta0).doit()\n",
    "vacuum_jacobian"
   ]
  },
  {
   "cell_type": "markdown",
   "metadata": {},
   "source": [
    "Now instead of going back to the complex form of the matrix, we should probably try to start from the linear system and then go to the real form..."
   ]
  },
  {
   "cell_type": "code",
   "execution_count": 49,
   "metadata": {},
   "outputs": [
    {
     "data": {
      "text/latex": [
       "$\\displaystyle \\left[\\begin{matrix}\\frac{\\eta_{0} t_{\\textrm{hop}11} t_{\\textrm{hop}21}}{2} - \\frac{\\kappa_\\textrm{c1}}{2} - i \\left(\\omega_{1} - \\omega_{\\textrm{d}}\\right) & i \\eta_{0} \\sqrt{t_{\\textrm{hop}11}} \\sqrt{t_{\\textrm{hop}21}}\\\\i \\eta_{0} \\sqrt{t_{\\textrm{hop}12}} \\sqrt{t_{\\textrm{hop}22}} e^{- i \\phi} & \\frac{\\eta_{0} t_{\\textrm{hop}12} t_{\\textrm{hop}22} e^{- i \\phi}}{2} - \\frac{\\kappa_\\textrm{c2}}{2} - i \\left(\\omega_{2} - \\omega_{\\textrm{d}}\\right)\\end{matrix}\\right]$"
      ],
      "text/plain": [
       "Matrix([\n",
       "[\\eta_{0}*t_{\\textrm{hop}11}*t_{\\textrm{hop}21}/2 - \\kappa_\\textrm{c1}/2 - I*(\\omega_1 - \\omega_{\\textrm{d}}),                                                              I*\\eta_{0}*sqrt(t_{\\textrm{hop}11})*sqrt(t_{\\textrm{hop}21})],\n",
       "[                                   I*\\eta_{0}*sqrt(t_{\\textrm{hop}12})*sqrt(t_{\\textrm{hop}22})*exp(-I*\\phi), \\eta_{0}*t_{\\textrm{hop}12}*t_{\\textrm{hop}22}*exp(-I*\\phi)/2 - \\kappa_\\textrm{c2}/2 - I*(\\omega_2 - \\omega_{\\textrm{d}})]])"
      ]
     },
     "execution_count": 49,
     "metadata": {},
     "output_type": "execute_result"
    }
   ],
   "source": [
    "dynamical_complex_matrix = Matrix([[-(((kappa_cavity1)/2 - (eta0)*(t_hop_1_1 * t_hop_2_1)/2) + I * (omega1 - omega_d)) , + I * eta0 * sqrt(t_hop_1_1 * t_hop_2_1)],\n",
    " [ I * eta0 * sqrt(t_hop_1_2 * t_hop_2_2) * exp(-I * phase),\n",
    "-(((kappa_cavity2)/2 - (eta0)*(t_hop_1_2 * t_hop_2_2)*exp(-I * phase)/2) + I * (omega2 - omega_d))]])\n",
    "dynamical_complex_matrix"
   ]
  },
  {
   "cell_type": "code",
   "execution_count": 50,
   "metadata": {},
   "outputs": [
    {
     "data": {
      "text/latex": [
       "$\\displaystyle \\left[\\begin{matrix}\\frac{\\eta_{0} t_{\\textrm{hop}11} t_{\\textrm{hop}21}}{2} - \\frac{\\kappa_\\textrm{c1}}{2} & 0\\\\\\eta_{0} \\sqrt{t_{\\textrm{hop}12}} \\sqrt{t_{\\textrm{hop}22}} \\sin{\\left(\\phi \\right)} & \\frac{\\eta_{0} t_{\\textrm{hop}12} t_{\\textrm{hop}22} \\cos{\\left(\\phi \\right)}}{2} - \\frac{\\kappa_\\textrm{c2}}{2}\\end{matrix}\\right]$"
      ],
      "text/plain": [
       "Matrix([\n",
       "[\\eta_{0}*t_{\\textrm{hop}11}*t_{\\textrm{hop}21}/2 - \\kappa_\\textrm{c1}/2,                                                                                 0],\n",
       "[   \\eta_{0}*sqrt(t_{\\textrm{hop}12})*sqrt(t_{\\textrm{hop}22})*sin(\\phi), \\eta_{0}*t_{\\textrm{hop}12}*t_{\\textrm{hop}22}*cos(\\phi)/2 - \\kappa_\\textrm{c2}/2]])"
      ]
     },
     "execution_count": 50,
     "metadata": {},
     "output_type": "execute_result"
    },
    {
     "data": {
      "text/latex": [
       "$\\displaystyle \\left[\\begin{matrix}- \\omega_{1} + \\omega_{\\textrm{d}} & \\eta_{0} \\sqrt{t_{\\textrm{hop}11}} \\sqrt{t_{\\textrm{hop}21}}\\\\\\eta_{0} \\sqrt{t_{\\textrm{hop}12}} \\sqrt{t_{\\textrm{hop}22}} \\cos{\\left(\\phi \\right)} & - \\frac{\\eta_{0} t_{\\textrm{hop}12} t_{\\textrm{hop}22} \\sin{\\left(\\phi \\right)}}{2} - \\omega_{2} + \\omega_{\\textrm{d}}\\end{matrix}\\right]$"
      ],
      "text/plain": [
       "Matrix([\n",
       "[                                     -\\omega_1 + \\omega_{\\textrm{d}},                                   \\eta_{0}*sqrt(t_{\\textrm{hop}11})*sqrt(t_{\\textrm{hop}21})],\n",
       "[\\eta_{0}*sqrt(t_{\\textrm{hop}12})*sqrt(t_{\\textrm{hop}22})*cos(\\phi), -\\eta_{0}*t_{\\textrm{hop}12}*t_{\\textrm{hop}22}*sin(\\phi)/2 - \\omega_2 + \\omega_{\\textrm{d}}]])"
      ]
     },
     "execution_count": 50,
     "metadata": {},
     "output_type": "execute_result"
    }
   ],
   "source": [
    "re(dynamical_complex_matrix)\n",
    "im(dynamical_complex_matrix)"
   ]
  },
  {
   "cell_type": "code",
   "execution_count": 51,
   "metadata": {},
   "outputs": [
    {
     "data": {
      "text/latex": [
       "$\\displaystyle \\left[\\begin{matrix}\\frac{\\eta_{0} t_{\\textrm{hop}11} t_{\\textrm{hop}21}}{2} - \\frac{\\kappa_\\textrm{c1}}{2} & \\omega_{1} - \\omega_{\\textrm{d}} & 0 & - \\eta_{0} \\sqrt{t_{\\textrm{hop}11}} \\sqrt{t_{\\textrm{hop}21}}\\\\- \\omega_{1} + \\omega_{\\textrm{d}} & \\frac{\\eta_{0} t_{\\textrm{hop}11} t_{\\textrm{hop}21}}{2} - \\frac{\\kappa_\\textrm{c1}}{2} & \\eta_{0} \\sqrt{t_{\\textrm{hop}11}} \\sqrt{t_{\\textrm{hop}21}} & 0\\\\\\eta_{0} \\sqrt{t_{\\textrm{hop}12}} \\sqrt{t_{\\textrm{hop}22}} \\sin{\\left(\\phi \\right)} & - \\eta_{0} \\sqrt{t_{\\textrm{hop}12}} \\sqrt{t_{\\textrm{hop}22}} \\cos{\\left(\\phi \\right)} & \\frac{\\eta_{0} t_{\\textrm{hop}12} t_{\\textrm{hop}22} \\cos{\\left(\\phi \\right)}}{2} - \\frac{\\kappa_\\textrm{c2}}{2} & \\frac{\\eta_{0} t_{\\textrm{hop}12} t_{\\textrm{hop}22} \\sin{\\left(\\phi \\right)}}{2} + \\omega_{2} - \\omega_{\\textrm{d}}\\\\\\eta_{0} \\sqrt{t_{\\textrm{hop}12}} \\sqrt{t_{\\textrm{hop}22}} \\cos{\\left(\\phi \\right)} & \\eta_{0} \\sqrt{t_{\\textrm{hop}12}} \\sqrt{t_{\\textrm{hop}22}} \\sin{\\left(\\phi \\right)} & - \\frac{\\eta_{0} t_{\\textrm{hop}12} t_{\\textrm{hop}22} \\sin{\\left(\\phi \\right)}}{2} - \\omega_{2} + \\omega_{\\textrm{d}} & \\frac{\\eta_{0} t_{\\textrm{hop}12} t_{\\textrm{hop}22} \\cos{\\left(\\phi \\right)}}{2} - \\frac{\\kappa_\\textrm{c2}}{2}\\end{matrix}\\right]$"
      ],
      "text/plain": [
       "Matrix([\n",
       "[\\eta_{0}*t_{\\textrm{hop}11}*t_{\\textrm{hop}21}/2 - \\kappa_\\textrm{c1}/2,                                          \\omega_1 - \\omega_{\\textrm{d}},                                                                                            0,                                 -\\eta_{0}*sqrt(t_{\\textrm{hop}11})*sqrt(t_{\\textrm{hop}21})],\n",
       "[                                        -\\omega_1 + \\omega_{\\textrm{d}}, \\eta_{0}*t_{\\textrm{hop}11}*t_{\\textrm{hop}21}/2 - \\kappa_\\textrm{c1}/2,                                   \\eta_{0}*sqrt(t_{\\textrm{hop}11})*sqrt(t_{\\textrm{hop}21}),                                                                                           0],\n",
       "[   \\eta_{0}*sqrt(t_{\\textrm{hop}12})*sqrt(t_{\\textrm{hop}22})*sin(\\phi),   -\\eta_{0}*sqrt(t_{\\textrm{hop}12})*sqrt(t_{\\textrm{hop}22})*cos(\\phi),            \\eta_{0}*t_{\\textrm{hop}12}*t_{\\textrm{hop}22}*cos(\\phi)/2 - \\kappa_\\textrm{c2}/2, \\eta_{0}*t_{\\textrm{hop}12}*t_{\\textrm{hop}22}*sin(\\phi)/2 + \\omega_2 - \\omega_{\\textrm{d}}],\n",
       "[   \\eta_{0}*sqrt(t_{\\textrm{hop}12})*sqrt(t_{\\textrm{hop}22})*cos(\\phi),    \\eta_{0}*sqrt(t_{\\textrm{hop}12})*sqrt(t_{\\textrm{hop}22})*sin(\\phi), -\\eta_{0}*t_{\\textrm{hop}12}*t_{\\textrm{hop}22}*sin(\\phi)/2 - \\omega_2 + \\omega_{\\textrm{d}},           \\eta_{0}*t_{\\textrm{hop}12}*t_{\\textrm{hop}22}*cos(\\phi)/2 - \\kappa_\\textrm{c2}/2]])"
      ]
     },
     "execution_count": 51,
     "metadata": {},
     "output_type": "execute_result"
    }
   ],
   "source": [
    "dynamical_real_matrix = KroneckerProduct(re(dynamical_complex_matrix), Matrix([[1, 0],[0, 1]])) - KroneckerProduct(im(dynamical_complex_matrix), Matrix([[0,1],[-1, 0]])) # gaat weer lelijk zijn als ik hier niets aan doe...\n",
    "dynamical_real_matrix.doit()"
   ]
  },
  {
   "cell_type": "code",
   "execution_count": 52,
   "metadata": {},
   "outputs": [],
   "source": [
    "# we can see that this gives the correct result :), so this was the check."
   ]
  }
 ],
 "metadata": {
  "kernelspec": {
   "display_name": "Python 3",
   "language": "python",
   "name": "python3"
  },
  "language_info": {
   "codemirror_mode": {
    "name": "ipython",
    "version": 3
   },
   "file_extension": ".py",
   "mimetype": "text/x-python",
   "name": "python",
   "nbconvert_exporter": "python",
   "pygments_lexer": "ipython3",
   "version": "3.8.10"
  }
 },
 "nbformat": 4,
 "nbformat_minor": 2
}
